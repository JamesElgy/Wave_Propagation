{
 "cells": [
  {
   "cell_type": "code",
   "execution_count": null,
   "id": "e8075356-f553-4751-a11c-794b93335ea1",
   "metadata": {},
   "outputs": [],
   "source": []
  },
  {
   "cell_type": "code",
   "execution_count": 9,
   "id": "6725ed59-27b9-4a20-8561-a702e628609a",
   "metadata": {},
   "outputs": [
    {
     "data": {
      "text/plain": [
       "Text(0.5, 0, '$N_d$')"
      ]
     },
     "execution_count": 9,
     "metadata": {},
     "output_type": "execute_result"
    },
    {
     "data": {
      "image/png": "[encoded data removed]",
      "text/plain": [
       "<Figure size 640x480 with 1 Axes>"
      ]
     },
     "metadata": {},
     "output_type": "display_data"
    }
   ],
   "source": [
    "from ngsolve import *\n",
    "from ngsolve.webgui import Draw\n",
    "from netgen.occ import *\n",
    "from netgen.webgui import Draw as Drawgeo\n",
    "import matplotlib.pyplot as plt\n",
    "import numpy as np\n",
    "from netgen.geom2d import unit_square\n",
    "\n",
    "\n",
    "mesh = Mesh(unit_square.GenerateMesh(maxh=0.3))\n",
    "\n",
    "\n",
    "\n",
    "err = []\n",
    "ndof = []\n",
    "\n",
    "g = CF(x**2 - y**2)\n",
    "gradg = CF((2*x, -2*y))\n",
    "\n",
    "for p in range(5):\n",
    "    fes = H1(mesh, order=p, dirichlet='top')\n",
    "    u, v = fes.TnT()\n",
    "    a = BilinearForm(fes)\n",
    "    a += grad(u) * grad(v) * dx\n",
    "    a.Assemble()\n",
    "    \n",
    "    f = LinearForm(fes)\n",
    "    f += specialcf.normal(dim=2) * gradg * v * ds('bottom|right|left')\n",
    "    f.Assemble()\n",
    "    \n",
    "    gfu = GridFunction(fes)\n",
    "    gfu.Set(g, BND)\n",
    "    \n",
    "    r = f.vec - a.mat * gfu.vec\n",
    "    gfu.vec.data += a.mat.Inverse(freedofs=fes.FreeDofs()) * r\n",
    "    \n",
    "    err += [sqrt(Integrate((gfu - g)**2, mesh))]\n",
    "    ndof += [fes.ndof]\n",
    "\n",
    "\n",
    "plt.figure()\n",
    "plt.loglog(ndof, err, 'k-*')\n",
    "plt.ylabel('$L_2$ Err')\n",
    "plt.xlabel('$N_d$')"
   ]
  },
  {
   "cell_type": "code",
   "execution_count": 10,
   "id": "f1b5a32d-fb37-47db-b398-4de00b3760a2",
   "metadata": {},
   "outputs": [
    {
     "data": {
      "application/vnd.jupyter.widget-view+json": {
       "model_id": "31259c7b9b56447581ea2fb0c238c02e",
       "version_major": 2,
       "version_minor": 0
      },
      "text/plain": [
       "WebGuiWidget(layout=Layout(height='50vh', width='100%'), value={'gui_settings': {}, 'ngsolve_version': '6.2.23…"
      ]
     },
     "metadata": {},
     "output_type": "display_data"
    },
    {
     "data": {
      "application/vnd.jupyter.widget-view+json": {
       "model_id": "3ff15a3ea03d4681b565162baf50419f",
       "version_major": 2,
       "version_minor": 0
      },
      "text/plain": [
       "WebGuiWidget(layout=Layout(height='50vh', width='100%'), value={'gui_settings': {}, 'ngsolve_version': '6.2.23…"
      ]
     },
     "metadata": {},
     "output_type": "display_data"
    },
    {
     "data": {
      "text/plain": [
       "BaseWebGuiScene"
      ]
     },
     "execution_count": 10,
     "metadata": {},
     "output_type": "execute_result"
    }
   ],
   "source": [
    "Draw(gfu, mesh)\n",
    "Draw(g, mesh)"
   ]
  },
  {
   "cell_type": "code",
   "execution_count": null,
   "id": "9684a889-f1c0-47eb-a844-61a4ce53e820",
   "metadata": {},
   "outputs": [],
   "source": []
  }
 ],
 "metadata": {
  "kernelspec": {
   "display_name": "Python 3 (ipykernel)",
   "language": "python",
   "name": "python3"
  },
  "language_info": {
   "codemirror_mode": {
    "name": "ipython",
    "version": 3
   },
   "file_extension": ".py",
   "mimetype": "text/x-python",
   "name": "python",
   "nbconvert_exporter": "python",
   "pygments_lexer": "ipython3",
   "version": "3.10.12"
  }
 },
 "nbformat": 4,
 "nbformat_minor": 5
}
