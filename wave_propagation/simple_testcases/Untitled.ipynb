{
 "cells": [
  {
   "cell_type": "code",
   "execution_count": 1,
   "id": "f890301a",
   "metadata": {},
   "outputs": [
    {
     "name": "stdout",
     "output_type": "stream",
     "text": [
      "importing NGSolve-6.2.2301\n"
     ]
    }
   ],
   "source": [
    "from ngsolve import *\n",
    "from ngsolve.la import EigenValues_Preconditioner\n",
    "\n",
    "mesh = Mesh(unit_square.GenerateMesh(maxh=0.3))\n",
    "\n",
    "fes = H1(mesh,order=0, dirichlet=\".*\", autoupdate=True)\n",
    "u,v = fes.TnT()\n",
    "a = BilinearForm(grad(u)*grad(v)*dx)"
   ]
  },
  {
   "cell_type": "code",
   "execution_count": 2,
   "id": "873d6186",
   "metadata": {},
   "outputs": [
    {
     "name": "stdout",
     "output_type": "stream",
     "text": [
      "Done\n"
     ]
    }
   ],
   "source": [
    "class MGPreconditioner(BaseMatrix):\n",
    "    def __init__ (self, fes, level, mat, coarsepre):\n",
    "        super().__init__() # Inheriting BaseMatrix class attributes\n",
    "        self.fes = fes\n",
    "        self.level = level\n",
    "        self.mat = mat\n",
    "        self.coarsepre = coarsepre\n",
    "        \n",
    "        # For level = 0 do direct inverse, else smooth via iterations of GS\n",
    "        if level > 0:\n",
    "            self.localpre = mat.CreateSmoother(fes.FreeDofs()) # Point-Jacobi\n",
    "        else:\n",
    "            self.localpre = mat.Inverse(fes.FreeDofs())\n",
    "\n",
    "    def Mult (self, d, w):\n",
    "        if self.level == 0:\n",
    "            w.data = self.localpre * d # A^{-1} * d.\n",
    "            return\n",
    "\n",
    "        prol = self.fes.Prolongation().Operator(self.level) # Interpolation operator to specified level.\n",
    "\n",
    "        w[:] = 0\n",
    "        for i in range(1):\n",
    "            self.localpre.Smooth(w,d) # One step of point gauss-seidel for solution vector w and basevector d\n",
    "            res  = d - self.mat * w # Computing residual as d - Aw\n",
    "            \n",
    "        w += (prol @ self.coarsepre @ prol.T) * res # Coarse grid correction \n",
    "        self.localpre.SmoothBack(w,d) # going back up the heirarchy.\n",
    "\n",
    "\n",
    "    def Shape (self):\n",
    "        return self.localpre.shape\n",
    "    def CreateVector (self, col):\n",
    "        return self.localpre.CreateVector(col)\n",
    "    \n",
    "print('Done')"
   ]
  },
  {
   "cell_type": "code",
   "execution_count": 3,
   "id": "77698d2a",
   "metadata": {},
   "outputs": [
    {
     "name": "stdout",
     "output_type": "stream",
     "text": [
      "ndof=     61:  minew=0.7547  maxew=0.9983  Cond# = 1.323\n",
      "ndof=    217:  minew=0.5814  maxew=0.9970  Cond# = 1.715\n",
      "ndof=    817:  minew=0.5444  maxew=0.9968  Cond# = 1.831\n",
      "ndof=   3169:  minew=0.5070  maxew=0.9970  Cond# = 1.966\n",
      "ndof=  12481:  minew=0.4870  maxew=0.9964  Cond# = 2.046\n",
      "ndof=  49537:  minew=0.4702  maxew=0.9957  Cond# = 2.118\n",
      "ndof= 197377:  minew=0.4650  maxew=0.9949  Cond# = 2.140\n",
      "ndof= 787969:  minew=0.4599  maxew=0.9944  Cond# = 2.162\n",
      "ndof=3148801:  minew=0.4583  maxew=0.9937  Cond# = 2.168\n"
     ]
    }
   ],
   "source": [
    "a.Assemble()\n",
    "pre = MGPreconditioner(fes, 0, a.mat, None)\n",
    "\n",
    "for l in range(9):\n",
    "    mesh.Refine()\n",
    "    a.Assemble()\n",
    "    pre = MGPreconditioner(fes,l+1, a.mat, pre)\n",
    "    lam = EigenValues_Preconditioner(a.mat, pre)\n",
    "    print(\"ndof=%7d:  minew=%.4f  maxew=%1.4f  Cond# = %5.3f\"\n",
    "          %(fes.ndof, lam[0], lam[-1], lam[-1]/lam[0]))"
   ]
  },
  {
   "cell_type": "code",
   "execution_count": 4,
   "id": "94455c50",
   "metadata": {},
   "outputs": [
    {
     "name": "stdout",
     "output_type": "stream",
     "text": [
      "\u001b[2KCG iteration 1, residual = 0.17485441072068886     \n",
      "\u001b[2KCG iteration 2, residual = 0.010217057003015048     \n",
      "\u001b[2KCG iteration 3, residual = 0.001256139314100235     \n",
      "\u001b[2KCG iteration 4, residual = 0.00017274545836876902     \n",
      "\u001b[2KCG iteration 5, residual = 2.7819740145590537e-05     \n",
      "\u001b[2KCG iteration 6, residual = 4.9176954776254025e-06     \n",
      "\u001b[2KCG iteration 7, residual = 9.23274395179222e-07     \n",
      "\u001b[2KCG iteration 8, residual = 1.8379122279574705e-07     \n",
      "\u001b[2KCG iteration 9, residual = 3.4689867880548826e-08     \n",
      "\u001b[2KCG iteration 10, residual = 6.500901537377572e-09     \n",
      "\u001b[2KCG iteration 11, residual = 1.1574897514971914e-09     \n",
      "\u001b[2KCG iteration 12, residual = 2.600590330238873e-10     \n",
      "\u001b[2KCG iteration 13, residual = 5.797339811742631e-11     \n",
      "\u001b[2KCG iteration 14, residual = 9.181963350169727e-12     \n",
      "\u001b[2KCG iteration 15, residual = 1.7777025594254866e-12     \n",
      "\u001b[2KCG iteration 16, residual = 3.7355694702182974e-13     \n",
      "\u001b[2KCG iteration 17, residual = 6.856536116363762e-14     \n"
     ]
    }
   ],
   "source": [
    "f = LinearForm(1*v*dx).Assemble()\n",
    "gfu = GridFunction(fes)\n",
    "from ngsolve.krylovspace import CGSolver\n",
    "inv = CGSolver(mat=a.mat, pre=pre, printrates=True)\n",
    "gfu.vec.data = inv * f.vec"
   ]
  },
  {
   "cell_type": "code",
   "execution_count": null,
   "id": "058fcaeb",
   "metadata": {},
   "outputs": [],
   "source": []
  }
 ],
 "metadata": {
  "kernelspec": {
   "display_name": "Python 3 (ipykernel)",
   "language": "python",
   "name": "python3"
  },
  "language_info": {
   "codemirror_mode": {
    "name": "ipython",
    "version": 3
   },
   "file_extension": ".py",
   "mimetype": "text/x-python",
   "name": "python",
   "nbconvert_exporter": "python",
   "pygments_lexer": "ipython3",
   "version": "3.10.12"
  },
  "varInspector": {
   "cols": {
    "lenName": 16,
    "lenType": 16,
    "lenVar": 40
   },
   "kernels_config": {
    "python": {
     "delete_cmd_postfix": "",
     "delete_cmd_prefix": "del ",
     "library": "var_list.py",
     "varRefreshCmd": "print(var_dic_list())"
    },
    "r": {
     "delete_cmd_postfix": ") ",
     "delete_cmd_prefix": "rm(",
     "library": "var_list.r",
     "varRefreshCmd": "cat(var_dic_list()) "
    }
   },
   "types_to_exclude": [
    "module",
    "function",
    "builtin_function_or_method",
    "instance",
    "_Feature"
   ],
   "window_display": false
  }
 },
 "nbformat": 4,
 "nbformat_minor": 5
}
