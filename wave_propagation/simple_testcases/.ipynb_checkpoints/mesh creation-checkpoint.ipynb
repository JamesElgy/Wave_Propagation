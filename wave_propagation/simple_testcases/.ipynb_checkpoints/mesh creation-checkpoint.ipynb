{
 "cells": [
  {
   "cell_type": "markdown",
   "id": "9c852366",
   "metadata": {},
   "source": [
    "Setup a simple mesh (conducting sphere) in a large unbounded domain."
   ]
  },
  {
   "cell_type": "code",
   "execution_count": null,
   "id": "249eac13",
   "metadata": {},
   "outputs": [],
   "source": [
    "from netgen.occ import *\n",
    "from ngsolve import *\n",
    "\n",
    "\"\"\"\n",
    "sphere example for Netgen OCC geometry mesh generation.\n",
    "\"\"\"\n",
    "\n",
    "# Setting mur, sigma, and defining the top level object name:\n",
    "material_name = ['copper']\n",
    "mur = [1]\n",
    "sigma = [1e6]\n",
    "\n",
    "# setting radius\n",
    "r = 1\n",
    "\n",
    "# Generating OCC primative sphere centered at [0,0,0] with radius r:\n",
    "sphere = Sphere(Pnt(0,0,0), r=r)\n",
    "\n",
    "# Generating surrounding non-conducting region as [-1000,1000]^3 box:\n",
    "box = Box(Pnt(-1000, -1000, -1000), Pnt(1000,1000,1000))\n",
    "\n",
    "# setting material and bc names:\n",
    "# For compatability, we want the non-conducting region to have the 'outer' boundary condition and be labeled as 'air'\n",
    "sphere.mat(material_name[0])\n",
    "sphere.bc('default')\n",
    "box.mat('air')\n",
    "box.bc('outer')\n",
    "\n",
    "# Setting maxh:\n",
    "sphere.maxh = 0.2\n",
    "box.maxh = 1000\n",
    "\n",
    "# Joining the two meshes:\n",
    "# Glue joins two OCC objects together without interior elemements\n",
    "joined_object = Glue([sphere, box])\n",
    "\n",
    "# Generating Mesh:\n",
    "geo = OCCGeometry(joined_object)\n",
    "nmesh = geo.GenerateMesh()\n",
    "nmesh.Save(r'VolFiles/OCC_sphere.vol')"
   ]
  }
 ],
 "metadata": {
  "kernelspec": {
   "display_name": "Python 3 (ipykernel)",
   "language": "python",
   "name": "python3"
  },
  "language_info": {
   "codemirror_mode": {
    "name": "ipython",
    "version": 3
   },
   "file_extension": ".py",
   "mimetype": "text/x-python",
   "name": "python",
   "nbconvert_exporter": "python",
   "pygments_lexer": "ipython3",
   "version": "3.10.11"
  }
 },
 "nbformat": 4,
 "nbformat_minor": 5
}
