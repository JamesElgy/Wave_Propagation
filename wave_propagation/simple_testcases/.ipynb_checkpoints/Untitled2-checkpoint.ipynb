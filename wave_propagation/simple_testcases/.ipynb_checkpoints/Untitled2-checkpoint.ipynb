{
 "cells": [
  {
   "cell_type": "code",
   "execution_count": 1,
   "id": "92266190",
   "metadata": {
    "scrolled": false
   },
   "outputs": [
    {
     "name": "stdout",
     "output_type": "stream",
     "text": [
      "importing NGSolve-6.2.2301\n",
      "level 0\n",
      "ndof =  101\n"
     ]
    },
    {
     "ename": "NameError",
     "evalue": "name 'end_level' is not defined",
     "output_type": "error",
     "traceback": [
      "\u001b[0;31m---------------------------------------------------------------------------\u001b[0m",
      "\u001b[0;31mNameError\u001b[0m                                 Traceback (most recent call last)",
      "Cell \u001b[0;32mIn [1], line 80\u001b[0m\n\u001b[1;32m     77\u001b[0m a\u001b[38;5;241m.\u001b[39mAssemble()\n\u001b[1;32m     78\u001b[0m pre\u001b[38;5;241m.\u001b[39mUpdate()\n\u001b[0;32m---> 80\u001b[0m lam \u001b[38;5;241m=\u001b[39m \u001b[43mEigenValues_Preconditioner\u001b[49m\u001b[43m(\u001b[49m\u001b[43mmat\u001b[49m\u001b[38;5;241;43m=\u001b[39;49m\u001b[43ma\u001b[49m\u001b[38;5;241;43m.\u001b[39;49m\u001b[43mmat\u001b[49m\u001b[43m,\u001b[49m\u001b[43m \u001b[49m\u001b[43mpre\u001b[49m\u001b[38;5;241;43m=\u001b[39;49m\u001b[43mpre\u001b[49m\u001b[43m)\u001b[49m\n\u001b[1;32m     81\u001b[0m \u001b[38;5;28mprint\u001b[39m (\u001b[38;5;124m\"\u001b[39m\u001b[38;5;124meigenvalues: \u001b[39m\u001b[38;5;124m\"\u001b[39m, lam)\n",
      "Cell \u001b[0;32mIn [1], line 33\u001b[0m, in \u001b[0;36mMultiGrid.Mult\u001b[0;34m(self, b, x)\u001b[0m\n\u001b[1;32m     32\u001b[0m \u001b[38;5;28;01mdef\u001b[39;00m \u001b[38;5;21mMult\u001b[39m(\u001b[38;5;28mself\u001b[39m, b, x):\n\u001b[0;32m---> 33\u001b[0m     \u001b[38;5;28;43mself\u001b[39;49m\u001b[38;5;241;43m.\u001b[39;49m\u001b[43mMGM\u001b[49m\u001b[43m(\u001b[49m\u001b[38;5;28;43mlen\u001b[39;49m\u001b[43m(\u001b[49m\u001b[38;5;28;43mself\u001b[39;49m\u001b[38;5;241;43m.\u001b[39;49m\u001b[43mmats\u001b[49m\u001b[43m)\u001b[49m\u001b[38;5;241;43m-\u001b[39;49m\u001b[38;5;241;43m1\u001b[39;49m\u001b[43m,\u001b[49m\u001b[43m \u001b[49m\u001b[43mb\u001b[49m\u001b[43m,\u001b[49m\u001b[43m \u001b[49m\u001b[43mx\u001b[49m\u001b[43m)\u001b[49m\n",
      "Cell \u001b[0;32mIn [1], line 36\u001b[0m, in \u001b[0;36mMultiGrid.MGM\u001b[0;34m(self, level, b, x)\u001b[0m\n\u001b[1;32m     35\u001b[0m \u001b[38;5;28;01mdef\u001b[39;00m \u001b[38;5;21mMGM\u001b[39m(\u001b[38;5;28mself\u001b[39m, level, b, x):\n\u001b[0;32m---> 36\u001b[0m     \u001b[38;5;28;01mif\u001b[39;00m level \u001b[38;5;241m>\u001b[39m \u001b[43mend_level\u001b[49m:\n\u001b[1;32m     37\u001b[0m         prol \u001b[38;5;241m=\u001b[39m \u001b[38;5;28mself\u001b[39m\u001b[38;5;241m.\u001b[39mbfa\u001b[38;5;241m.\u001b[39mspace\u001b[38;5;241m.\u001b[39mProlongation()\n\u001b[1;32m     38\u001b[0m         nc \u001b[38;5;241m=\u001b[39m \u001b[38;5;28mself\u001b[39m\u001b[38;5;241m.\u001b[39mmats[level\u001b[38;5;241m-\u001b[39m\u001b[38;5;241m1\u001b[39m]\u001b[38;5;241m.\u001b[39mheight\n",
      "\u001b[0;31mNameError\u001b[0m: name 'end_level' is not defined"
     ]
    }
   ],
   "source": [
    "from netgen.csg import unit_cube\n",
    "from netgen.geom2d import unit_square\n",
    "from ngsolve import *\n",
    "from ngsolve.la import EigenValues_Preconditioner\n",
    "\n",
    "mesh = Mesh (unit_square.GenerateMesh(maxh=0.5))\n",
    "\n",
    "class MultiGrid(BaseMatrix):\n",
    "    def __init__ (self, bfa, smoothingsteps=1, cycle=1, end_level=0):\n",
    "        super(MultiGrid, self).__init__()\n",
    "        self.bfa = bfa\n",
    "        self.inv = bfa.mat.Inverse(bfa.space.FreeDofs())\n",
    "        self.mats = [bfa.mat]\n",
    "        self.smoothers = [ () ]\n",
    "        self.smoothingsteps = smoothingsteps\n",
    "        self.cycle = cycle\n",
    "        self.end_level = end_level\n",
    "        \n",
    "    def Update(self):\n",
    "        self.mats.append (self.bfa.mat)\n",
    "        blocks = []\n",
    "        freedofs = self.bfa.space.FreeDofs()\n",
    "        for i in range(len(freedofs)):\n",
    "            if freedofs[i]:\n",
    "                blocks.append ( (i,) )\n",
    "        self.smoothers.append (self.bfa.mat.CreateBlockSmoother(blocks))\n",
    "        \n",
    "    def Height(self):\n",
    "        return self.bfa.mat.height\n",
    "    def Width(self):\n",
    "        return self.bfa.mat.width\n",
    "    \n",
    "    def Mult(self, b, x):\n",
    "        self.MGM(len(self.mats)-1, b, x)\n",
    "        \n",
    "    def MGM(self, level, b, x):\n",
    "        if level > self.end_level:\n",
    "            prol = self.bfa.space.Prolongation()\n",
    "            nc = self.mats[level-1].height\n",
    "            d = b.CreateVector()\n",
    "            w = b.CreateVector()\n",
    "            \n",
    "            x[:] = 0\n",
    "            # pre-smoothing Jacobi/Gauss-Seidel\n",
    "            for i in range(self.smoothingsteps):\n",
    "                self.smoothers[level].Smooth(x, b)\n",
    "\n",
    "            # coarse grid correction\n",
    "            for cgc in range(self.cycle):\n",
    "                d.data = b - self.mats[level] * x\n",
    "                prol.Restrict(level, d)\n",
    "                self.MGM(level-1, d[0:nc] , w[0:nc])\n",
    "                prol.Prolongate(level, w)\n",
    "                x.data += w\n",
    "\n",
    "            # post-smoothing Jacobi/Gauss-Seidel            \n",
    "            for i in range(self.smoothingsteps):\n",
    "                self.smoothers[level].SmoothBack(x, b)\n",
    "        else:\n",
    "            x.data = self.inv * b\n",
    "            \n",
    "\n",
    "fes = HCurl(mesh, order=1, dirichlet=\"left\", low_order_space=False)\n",
    "\n",
    "u,v = fes.TnT()\n",
    "a = BilinearForm(fes)\n",
    "a += SymbolicBFI(u*v+curl(u)*curl(v))\n",
    "a.Assemble()\n",
    "\n",
    "pre = MultiGrid(a, smoothingsteps=1)\n",
    "\n",
    "with TaskManager():\n",
    "    for l in range(9):\n",
    "        print (\"level\", l)\n",
    "        mesh.Refine()\n",
    "        fes.Update()\n",
    "        print (\"ndof = \", fes.ndof)\n",
    "        a.Assemble()\n",
    "        pre.Update()\n",
    "\n",
    "        lam = EigenValues_Preconditioner(mat=a.mat, pre=pre)\n",
    "        print (\"eigenvalues: \", lam)\n",
    "\n",
    "    \n"
   ]
  },
  {
   "cell_type": "code",
   "execution_count": null,
   "id": "d41abc3a",
   "metadata": {},
   "outputs": [],
   "source": []
  }
 ],
 "metadata": {
  "kernelspec": {
   "display_name": "Python 3 (ipykernel)",
   "language": "python",
   "name": "python3"
  },
  "language_info": {
   "codemirror_mode": {
    "name": "ipython",
    "version": 3
   },
   "file_extension": ".py",
   "mimetype": "text/x-python",
   "name": "python",
   "nbconvert_exporter": "python",
   "pygments_lexer": "ipython3",
   "version": "3.10.12"
  },
  "varInspector": {
   "cols": {
    "lenName": 16,
    "lenType": 16,
    "lenVar": 40
   },
   "kernels_config": {
    "python": {
     "delete_cmd_postfix": "",
     "delete_cmd_prefix": "del ",
     "library": "var_list.py",
     "varRefreshCmd": "print(var_dic_list())"
    },
    "r": {
     "delete_cmd_postfix": ") ",
     "delete_cmd_prefix": "rm(",
     "library": "var_list.r",
     "varRefreshCmd": "cat(var_dic_list()) "
    }
   },
   "types_to_exclude": [
    "module",
    "function",
    "builtin_function_or_method",
    "instance",
    "_Feature"
   ],
   "window_display": false
  }
 },
 "nbformat": 4,
 "nbformat_minor": 5
}
