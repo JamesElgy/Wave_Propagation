{
 "cells": [
  {
   "cell_type": "code",
   "execution_count": 1,
   "id": "f1925f1b",
   "metadata": {},
   "outputs": [
    {
     "name": "stdout",
     "output_type": "stream",
     "text": [
      "importing NGSolve-6.2.2301\n"
     ]
    }
   ],
   "source": [
    "from ngsolve import *\n",
    "from ngsolve.la import EigenValues_Preconditioner\n",
    "\n",
    "mesh = Mesh(unit_square.GenerateMesh(maxh=0.3))\n",
    "\n",
    "fes = HCurl(mesh,order=0, dirichlet=\".*\", autoupdate=True)\n",
    "u,v = fes.TnT()\n",
    "a = BilinearForm(curl(u)*curl(v)*dx)"
   ]
  },
  {
   "cell_type": "code",
   "execution_count": 2,
   "id": "70682f53",
   "metadata": {},
   "outputs": [
    {
     "name": "stdout",
     "output_type": "stream",
     "text": [
      "Done\n"
     ]
    }
   ],
   "source": [
    "class MGPreconditioner(BaseMatrix):\n",
    "    def __init__ (self, fes, level, mat, coarsepre):\n",
    "        super().__init__() # Inheriting BaseMatrix class attributes\n",
    "        self.fes = fes\n",
    "        self.level = level\n",
    "        self.mat = mat\n",
    "        self.coarsepre = coarsepre\n",
    "        \n",
    "        # For level = 0 do direct inverse, else smooth via iterations of GS\n",
    "        if level > 0:\n",
    "            self.localpre = mat.CreateSmoother(fes.FreeDofs()) # Point-Jacobi\n",
    "        else:\n",
    "            self.localpre = mat.Inverse(fes.FreeDofs())\n",
    "\n",
    "    def Mult (self, d, w):\n",
    "        if self.level == 0:\n",
    "            w.data = self.localpre * d # A^{-1} * d.\n",
    "            return\n",
    "\n",
    "        prol = self.fes.Prolongation().Operator(self.level) # Interpolation operator to specified level.\n",
    "\n",
    "        w[:] = 0\n",
    "        for i in range(1):\n",
    "            self.localpre.Smooth(w,d) # One step of point gauss-seidel for solution vector w and basevector d\n",
    "            res  = d - self.mat * w # Computing residual as d - Aw\n",
    "        w += (prol @ self.coarsepre @ prol.T) * res # Coarse grid correction \n",
    "        self.localpre.SmoothBack(w,d) # going back up the heirarchy.\n",
    "\n",
    "\n",
    "    def Shape (self):\n",
    "        return self.localpre.shape\n",
    "    def CreateVector (self, col):\n",
    "        return self.localpre.CreateVector(col)\n",
    "    \n",
    "print('Done')"
   ]
  },
  {
   "cell_type": "code",
   "execution_count": 3,
   "id": "7d3c7322",
   "metadata": {},
   "outputs": [
    {
     "ename": "NgException",
     "evalue": "Prolongation::GetNDofLevel not overloaded",
     "output_type": "error",
     "traceback": [
      "\u001b[0;31m---------------------------------------------------------------------------\u001b[0m",
      "\u001b[0;31mNgException\u001b[0m                               Traceback (most recent call last)",
      "Cell \u001b[0;32mIn [3], line 8\u001b[0m\n\u001b[1;32m      6\u001b[0m a\u001b[38;5;241m.\u001b[39mAssemble()\n\u001b[1;32m      7\u001b[0m pre \u001b[38;5;241m=\u001b[39m MGPreconditioner(fes,l\u001b[38;5;241m+\u001b[39m\u001b[38;5;241m1\u001b[39m, a\u001b[38;5;241m.\u001b[39mmat, pre)\n\u001b[0;32m----> 8\u001b[0m lam \u001b[38;5;241m=\u001b[39m \u001b[43mEigenValues_Preconditioner\u001b[49m\u001b[43m(\u001b[49m\u001b[43ma\u001b[49m\u001b[38;5;241;43m.\u001b[39;49m\u001b[43mmat\u001b[49m\u001b[43m,\u001b[49m\u001b[43m \u001b[49m\u001b[43mpre\u001b[49m\u001b[43m)\u001b[49m\n\u001b[1;32m      9\u001b[0m \u001b[38;5;28mprint\u001b[39m(\u001b[38;5;124m\"\u001b[39m\u001b[38;5;124mndof=\u001b[39m\u001b[38;5;132;01m%7d\u001b[39;00m\u001b[38;5;124m:  minew=\u001b[39m\u001b[38;5;132;01m%.4f\u001b[39;00m\u001b[38;5;124m  maxew=\u001b[39m\u001b[38;5;132;01m%1.4f\u001b[39;00m\u001b[38;5;124m  Cond# = \u001b[39m\u001b[38;5;132;01m%5.3f\u001b[39;00m\u001b[38;5;124m\"\u001b[39m\n\u001b[1;32m     10\u001b[0m       \u001b[38;5;241m%\u001b[39m(fes\u001b[38;5;241m.\u001b[39mndof, lam[\u001b[38;5;241m0\u001b[39m], lam[\u001b[38;5;241m-\u001b[39m\u001b[38;5;241m1\u001b[39m], lam[\u001b[38;5;241m-\u001b[39m\u001b[38;5;241m1\u001b[39m]\u001b[38;5;241m/\u001b[39mlam[\u001b[38;5;241m0\u001b[39m]))\n",
      "Cell \u001b[0;32mIn [2], line 26\u001b[0m, in \u001b[0;36mMGPreconditioner.Mult\u001b[0;34m(self, d, w)\u001b[0m\n\u001b[1;32m     24\u001b[0m     \u001b[38;5;28mself\u001b[39m\u001b[38;5;241m.\u001b[39mlocalpre\u001b[38;5;241m.\u001b[39mSmooth(w,d) \u001b[38;5;66;03m# One step of point gauss-seidel for solution vector w and basevector d\u001b[39;00m\n\u001b[1;32m     25\u001b[0m     res  \u001b[38;5;241m=\u001b[39m d \u001b[38;5;241m-\u001b[39m \u001b[38;5;28mself\u001b[39m\u001b[38;5;241m.\u001b[39mmat \u001b[38;5;241m*\u001b[39m w \u001b[38;5;66;03m# Computing residual as d - Aw\u001b[39;00m\n\u001b[0;32m---> 26\u001b[0m w \u001b[38;5;241m+\u001b[39m\u001b[38;5;241m=\u001b[39m (prol \u001b[38;5;241m@\u001b[39m \u001b[38;5;28mself\u001b[39m\u001b[38;5;241m.\u001b[39mcoarsepre \u001b[38;5;241m@\u001b[39m prol\u001b[38;5;241m.\u001b[39mT) \u001b[38;5;241m*\u001b[39m res \u001b[38;5;66;03m# Coarse grid correction \u001b[39;00m\n\u001b[1;32m     27\u001b[0m \u001b[38;5;28mself\u001b[39m\u001b[38;5;241m.\u001b[39mlocalpre\u001b[38;5;241m.\u001b[39mSmoothBack(w,d)\n",
      "\u001b[0;31mNgException\u001b[0m: Prolongation::GetNDofLevel not overloaded"
     ]
    }
   ],
   "source": [
    "a.Assemble()\n",
    "pre = MGPreconditioner(fes, 0, a.mat, None)\n",
    "\n",
    "for l in range(9):\n",
    "    mesh.Refine()\n",
    "    a.Assemble()\n",
    "    pre = MGPreconditioner(fes,l+1, a.mat, pre)\n",
    "    lam = EigenValues_Preconditioner(a.mat, pre)\n",
    "    print(\"ndof=%7d:  minew=%.4f  maxew=%1.4f  Cond# = %5.3f\"\n",
    "          %(fes.ndof, lam[0], lam[-1], lam[-1]/lam[0]))"
   ]
  },
  {
   "cell_type": "code",
   "execution_count": null,
   "id": "40678660",
   "metadata": {},
   "outputs": [],
   "source": [
    "f = LinearForm(1*v*dx).Assemble()\n",
    "gfu = GridFunction(fes)\n",
    "from ngsolve.krylovspace import CGSolver\n",
    "inv = CGSolver(mat=a.mat, pre=pre, printrates=True)\n",
    "gfu.vec.data = inv * f.vec"
   ]
  },
  {
   "cell_type": "code",
   "execution_count": null,
   "id": "69e27593",
   "metadata": {},
   "outputs": [],
   "source": []
  }
 ],
 "metadata": {
  "kernelspec": {
   "display_name": "Python 3 (ipykernel)",
   "language": "python",
   "name": "python3"
  },
  "language_info": {
   "codemirror_mode": {
    "name": "ipython",
    "version": 3
   },
   "file_extension": ".py",
   "mimetype": "text/x-python",
   "name": "python",
   "nbconvert_exporter": "python",
   "pygments_lexer": "ipython3",
   "version": "3.10.12"
  },
  "varInspector": {
   "cols": {
    "lenName": 16,
    "lenType": 16,
    "lenVar": 40
   },
   "kernels_config": {
    "python": {
     "delete_cmd_postfix": "",
     "delete_cmd_prefix": "del ",
     "library": "var_list.py",
     "varRefreshCmd": "print(var_dic_list())"
    },
    "r": {
     "delete_cmd_postfix": ") ",
     "delete_cmd_prefix": "rm(",
     "library": "var_list.r",
     "varRefreshCmd": "cat(var_dic_list()) "
    }
   },
   "types_to_exclude": [
    "module",
    "function",
    "builtin_function_or_method",
    "instance",
    "_Feature"
   ],
   "window_display": false
  }
 },
 "nbformat": 4,
 "nbformat_minor": 5
}
