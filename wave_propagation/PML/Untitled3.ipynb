{
 "cells": [
  {
   "cell_type": "code",
   "execution_count": null,
   "id": "9b7e3b8a-cc58-4a2e-80cd-980bbae0c14b",
   "metadata": {},
   "outputs": [],
   "source": []
  },
  {
   "cell_type": "code",
   "execution_count": 1,
   "id": "ac19f6e9-babf-4264-9b17-afa6e78ef394",
   "metadata": {},
   "outputs": [
    {
     "name": "stdout",
     "output_type": "stream",
     "text": [
      "importing NGSolve-6.2.2301\n"
     ]
    }
   ],
   "source": [
    "from ngsolve import *\n",
    "from ngsolve.webgui import Draw\n",
    "from netgen.occ import *\n",
    "from netgen.webgui import Draw as Drawgeo\n",
    "import matplotlib.pyplot as plt\n",
    "import numpy as np\n"
   ]
  },
  {
   "cell_type": "code",
   "execution_count": 26,
   "id": "a011b844-3b08-4328-8c83-ca42ba8c3196",
   "metadata": {},
   "outputs": [
    {
     "data": {
      "application/vnd.jupyter.widget-view+json": {
       "model_id": "be55fc193efd4668878dd3fa102046c6",
       "version_major": 2,
       "version_minor": 0
      },
      "text/plain": [
       "WebGuiWidget(layout=Layout(height='50vh', width='100%'), value={'gui_settings': {}, 'ngsolve_version': '6.2.23…"
      ]
     },
     "metadata": {},
     "output_type": "display_data"
    },
    {
     "data": {
      "text/plain": [
       "<ngsolve.comp.Mesh at 0x7fd7bcee3ce0>"
      ]
     },
     "execution_count": 26,
     "metadata": {},
     "output_type": "execute_result"
    }
   ],
   "source": [
    "box_size = 5\n",
    "PML_size = 5\n",
    "h = hpml = 5\n",
    "\n",
    "inner_rect=WorkPlane().RectangleC(box_size,box_size).Face()\n",
    "scatterer = WorkPlane().Circle(0,0,1).Face()\n",
    "\n",
    "inner_rect.edges.name = 'innerbnd'\n",
    "scatterer.edges.name = 'scabnd'\n",
    "\n",
    "inner = inner_rect - scatterer\n",
    "\n",
    "wp2=WorkPlane().RectangleC(box_size+PML_size,box_size+PML_size).RectangleC(box_size, box_size).Reverse()\n",
    "outer = wp2.Face()\n",
    "\n",
    "inner.maxh = h\n",
    "outer.maxh = hpml\n",
    "# outer.quad_dominated=True\n",
    "\n",
    "outer.edges.name = 'outerbnd'\n",
    "inner.faces.name ='inner'\n",
    "outer.faces.name = 'pmlregion'\n",
    "\n",
    "geo = OCCGeometry(Glue([inner, outer]), dim=2 )\n",
    "# geo = OCCGeometry(inner, dim=2)\n",
    "netgenmesh = geo.GenerateMesh()\n",
    "\n",
    "# netgenmesh.BoundaryLayer(boundary='innerbnd', thickness=0.5, material='default', domains='inner', outside=False) \n",
    "\n",
    "ngmesh = Mesh(netgenmesh)\n",
    "\n",
    "Draw(ngmesh)\n",
    "ngmesh.Curve(5)"
   ]
  },
  {
   "cell_type": "code",
   "execution_count": 18,
   "id": "4d31913e-c1ce-4a91-bda1-dc50ea43ff9b",
   "metadata": {},
   "outputs": [
    {
     "data": {
      "text/plain": [
       "('innerbnd', 'innerbnd', 'innerbnd', 'innerbnd', 'scabnd')"
      ]
     },
     "execution_count": 18,
     "metadata": {},
     "output_type": "execute_result"
    }
   ],
   "source": [
    "ngmesh.GetBoundaries()"
   ]
  },
  {
   "cell_type": "code",
   "execution_count": null,
   "id": "6ff8d38e-89f4-42f1-a214-77ebb10c2417",
   "metadata": {},
   "outputs": [],
   "source": []
  }
 ],
 "metadata": {
  "kernelspec": {
   "display_name": "Python 3 (ipykernel)",
   "language": "python",
   "name": "python3"
  },
  "language_info": {
   "codemirror_mode": {
    "name": "ipython",
    "version": 3
   },
   "file_extension": ".py",
   "mimetype": "text/x-python",
   "name": "python",
   "nbconvert_exporter": "python",
   "pygments_lexer": "ipython3",
   "version": "3.10.12"
  }
 },
 "nbformat": 4,
 "nbformat_minor": 5
}
