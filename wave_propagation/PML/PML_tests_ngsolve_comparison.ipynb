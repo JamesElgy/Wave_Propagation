{
 "cells": [
  {
   "cell_type": "code",
   "execution_count": 1,
   "id": "4450f642",
   "metadata": {},
   "outputs": [
    {
     "name": "stdout",
     "output_type": "stream",
     "text": [
      "importing NGSolve-6.2.2301\n"
     ]
    }
   ],
   "source": [
    "from ngsolve import *\n",
    "from ngsolve.webgui import Draw\n",
    "from netgen.occ import *\n",
    "from netgen.webgui import Draw as Drawgeo\n",
    "import matplotlib.pyplot as plt\n",
    "import numpy as np"
   ]
  },
  {
   "cell_type": "markdown",
   "id": "6ff99053",
   "metadata": {},
   "source": [
    "Consider the following. Find $u$ satisfying\n",
    "\\begin{equation}\n",
    "-\\nabla u - \\omega^2 u = f \\text{ in } \\mathbb{R}^2,\n",
    "\\end{equation}\n",
    "with $u$ satisfying the Sommerfeld radiation condition\n",
    "\\begin{equation}\n",
    "\\lim_{r\\to\\infty} r^{1/2} \\left(\\frac{\\partial u}{\\partial r} - i\\omega u\\right) = 0,\n",
    "\\end{equation}\n",
    "where $r$ is the radial coordinate from the origin."
   ]
  },
  {
   "cell_type": "code",
   "execution_count": 2,
   "id": "48025720",
   "metadata": {},
   "outputs": [],
   "source": [
    "outer = Circle((0,0), 2).Face()\n",
    "outer.edges.name = 'outerbnd'\n",
    "inner = Circle((0,0), 1).Face()\n",
    "inner.edges.name = 'innerbnd'\n",
    "inner.faces.name ='inner'\n",
    "pmlregion = outer - inner\n",
    "pmlregion.faces.name = 'pmlregion'\n",
    "geo = OCCGeometry(Glue([inner, pmlregion]), dim=2)\n",
    "\n",
    "mesh = Mesh(geo.GenerateMesh (maxh=0.1))\n",
    "mesh.Curve(3)\n",
    "\n",
    "inout_dict = {'inner': 1, 'pmlregion':0}\n",
    "inout = CoefficientFunction([inout_dict[mat] for mat in mesh.GetMaterials()])"
   ]
  },
  {
   "cell_type": "markdown",
   "id": "bd1cf7b6",
   "metadata": {},
   "source": [
    "We set $f$ to be almost 0 everywhere except a small region away from the boundary,"
   ]
  },
  {
   "cell_type": "code",
   "execution_count": 3,
   "id": "592d4fbe",
   "metadata": {},
   "outputs": [
    {
     "data": {
      "application/vnd.jupyter.widget-view+json": {
       "model_id": "6c5293765a0d4a1ab1f8647bd2a4234a",
       "version_major": 2,
       "version_minor": 0
      },
      "text/plain": [
       "WebGuiWidget(layout=Layout(height='50vh', width='100%'), value={'gui_settings': {}, 'ngsolve_version': '6.2.23…"
      ]
     },
     "metadata": {},
     "output_type": "display_data"
    }
   ],
   "source": [
    "f = exp(-20**2*((x-0.3)*(x-0.3)+y*y))\n",
    "Draw(f, mesh);"
   ]
  },
  {
   "cell_type": "markdown",
   "id": "4a9b55de",
   "metadata": {},
   "source": [
    "Setting PML in pmlregion"
   ]
  },
  {
   "cell_type": "code",
   "execution_count": 4,
   "id": "2f5d2ec3",
   "metadata": {},
   "outputs": [],
   "source": [
    "mesh.SetPML(pml.Radial(rad=1,alpha=1j,origin=(0,0)), \"pmlregion\")"
   ]
  },
  {
   "cell_type": "markdown",
   "id": "4dde55f4",
   "metadata": {},
   "source": [
    "Solving H1 with $\\omega=10$ using a direct inverse"
   ]
  },
  {
   "cell_type": "code",
   "execution_count": 5,
   "id": "57d5a143",
   "metadata": {},
   "outputs": [
    {
     "data": {
      "application/vnd.jupyter.widget-view+json": {
       "model_id": "03440421779e4009a575304bc6141410",
       "version_major": 2,
       "version_minor": 0
      },
      "text/plain": [
       "WebGuiWidget(layout=Layout(height='50vh', width='100%'), value={'gui_settings': {}, 'ngsolve_version': '6.2.23…"
      ]
     },
     "metadata": {},
     "output_type": "display_data"
    }
   ],
   "source": [
    "fes = H1(mesh, order=4, complex=True)\n",
    "u = fes.TrialFunction()\n",
    "v = fes.TestFunction()\n",
    "\n",
    "omega = 10\n",
    "\n",
    "a = BilinearForm(fes)\n",
    "a += grad(u)*grad(v)*dx - omega**2*u*v*dx\n",
    "a += -1j*omega*u*v*ds(\"outerbnd\")\n",
    "a.Assemble()\n",
    "\n",
    "b = LinearForm(f * v * dx).Assemble()\n",
    "\n",
    "gfu = GridFunction(fes)\n",
    "gfu.vec.data = a.mat.Inverse() * b.vec\n",
    "Draw(gfu);\n",
    "\n"
   ]
  },
  {
   "cell_type": "code",
   "execution_count": 6,
   "id": "815534f5",
   "metadata": {},
   "outputs": [
    {
     "data": {
      "text/plain": [
       "(-3.4890070419615374e-06-1.3102267046576246e-05j)"
      ]
     },
     "execution_count": 6,
     "metadata": {},
     "output_type": "execute_result"
    }
   ],
   "source": [
    "Integrate(inout * gfu, mesh)"
   ]
  },
  {
   "cell_type": "markdown",
   "id": "c2ae9efc",
   "metadata": {},
   "source": [
    "Trying again with my own implementation.\n",
    "\n",
    "We want the field to decay exponentially to (near) 0 inside the PML. To do this, we update the material properties, $A$ inside the PML, i.e. rewritting the weak form of the problem as: find $u$ such that\n",
    "\\begin{equation}\n",
    "\\int_\\Omega A^{-1} \\nabla u \\cdot \\nabla v \\, \\text{d}\\Omega - \\int_\\Omega A  \\omega^2 u v \\text{d}\\Omega = \\int_\\Omega f v \\text{d}\\Omega\n",
    "\\end{equation}\n"
   ]
  },
  {
   "cell_type": "code",
   "execution_count": 7,
   "id": "fd055a37",
   "metadata": {
    "scrolled": false
   },
   "outputs": [],
   "source": [
    "outer = Circle((0,0), 2).Face()\n",
    "outer.edges.name = 'outerbnd'\n",
    "inner = Circle((0,0), 1).Face()\n",
    "inner.edges.name = 'innerbnd'\n",
    "inner.faces.name ='inner'\n",
    "pmlregion = outer - inner\n",
    "pmlregion.faces.name = 'pmlregion'\n",
    "geo = OCCGeometry(Glue([inner, pmlregion]), dim=2)\n",
    "\n",
    "mesh = Mesh(geo.GenerateMesh (maxh=0.1))\n",
    "mesh.Curve(3)\n",
    "\n",
    "\n",
    "fes = H1(mesh, order=4, complex=True, dirichlet='outerbnd')\n",
    "u = fes.TrialFunction()\n",
    "v = fes.TestFunction()\n",
    "omega = 10\n",
    "\n",
    "r = (x**2 + y**2)**(0.5)\n",
    "r_inner = 1\n",
    "r_outer = 2\n",
    "alpha  = 20\n",
    "sigma = 6 * ((r - r_inner) / (r_outer - r_inner)) ** 2\n",
    "gamma = 1 + (1j *alpha * sigma)\n",
    "\n",
    "amp_dict = {'inner': 1, 'pmlregion': gamma}\n",
    "\n",
    "A = CoefficientFunction([amp_dict[mat] for mat in mesh.GetMaterials()])\n",
    "\n",
    "a = BilinearForm(fes)\n",
    "a += A**-1 *grad(u)*grad(v) * dx - A * omega**2*u*v * dx\n",
    "a += A * -1j*omega*u*v * ds('outerbnd')\n",
    "a.Assemble()\n",
    "\n",
    "#f = exp(-20**2*((x+gamma-0.3)*(x+gamma-0.3)+y*gamma*y*gamma))\n",
    "\n",
    "b = LinearForm(fes)\n",
    "b += f * v * dx\n",
    "b.Assemble()\n",
    "\n",
    "\n",
    "gfu = GridFunction(fes)\n",
    "gfu.Set(0, BND)\n",
    "gfu.vec.data = a.mat.Inverse() * b.vec\n"
   ]
  },
  {
   "cell_type": "markdown",
   "id": "9f944195",
   "metadata": {},
   "source": [
    "Drawing the imaginary part of the weighting, $A$. Only imaginary part exists inside the pml."
   ]
  },
  {
   "cell_type": "code",
   "execution_count": 8,
   "id": "6df25525",
   "metadata": {},
   "outputs": [
    {
     "data": {
      "application/vnd.jupyter.widget-view+json": {
       "model_id": "5a9ae2d76e734b9b951af5777ebd0c2d",
       "version_major": 2,
       "version_minor": 0
      },
      "text/plain": [
       "WebGuiWidget(layout=Layout(height='50vh', width='100%'), value={'gui_settings': {}, 'ngsolve_version': '6.2.23…"
      ]
     },
     "metadata": {},
     "output_type": "display_data"
    },
    {
     "data": {
      "application/vnd.jupyter.widget-view+json": {
       "model_id": "3e0e86a1368b483faf7001619bfdf917",
       "version_major": 2,
       "version_minor": 0
      },
      "text/plain": [
       "WebGuiWidget(layout=Layout(height='50vh', width='100%'), value={'gui_settings': {}, 'ngsolve_version': '6.2.23…"
      ]
     },
     "metadata": {},
     "output_type": "display_data"
    },
    {
     "data": {
      "text/plain": [
       "BaseWebGuiScene"
      ]
     },
     "execution_count": 8,
     "metadata": {},
     "output_type": "execute_result"
    }
   ],
   "source": [
    "Draw(A.imag, mesh, 'A')\n",
    "Draw(A.real, mesh, 'A')"
   ]
  },
  {
   "cell_type": "markdown",
   "id": "3ba5151e",
   "metadata": {},
   "source": [
    "Similarly, the solution field, $u$, decays towards the outer boundary."
   ]
  },
  {
   "cell_type": "code",
   "execution_count": 9,
   "id": "e7919738",
   "metadata": {},
   "outputs": [
    {
     "data": {
      "application/vnd.jupyter.widget-view+json": {
       "model_id": "a40ccd0abf744c53be5e066b4feba229",
       "version_major": 2,
       "version_minor": 0
      },
      "text/plain": [
       "WebGuiWidget(layout=Layout(height='50vh', width='100%'), value={'gui_settings': {}, 'ngsolve_version': '6.2.23…"
      ]
     },
     "metadata": {},
     "output_type": "display_data"
    },
    {
     "data": {
      "text/plain": [
       "BaseWebGuiScene"
      ]
     },
     "execution_count": 9,
     "metadata": {},
     "output_type": "execute_result"
    }
   ],
   "source": [
    "Draw(gfu)#, min=-0.00096, max=0.0018);\n"
   ]
  },
  {
   "cell_type": "code",
   "execution_count": 10,
   "id": "1051fb38",
   "metadata": {},
   "outputs": [
    {
     "data": {
      "text/plain": [
       "(-3.4338226836368e-06-1.2647816710175955e-05j)"
      ]
     },
     "execution_count": 10,
     "metadata": {},
     "output_type": "execute_result"
    }
   ],
   "source": [
    "Integrate(inout * gfu, mesh)"
   ]
  },
  {
   "cell_type": "markdown",
   "id": "6891c1ff",
   "metadata": {},
   "source": [
    "## Robust PML\n",
    "In this third example I implement a PML following the implementation proposed by Michler $\\textit{et al}$\n",
    "\n",
    "Michler, C. and Demkowlcz, L. and Kurtz, J. and Pardo, D., \"{Improving the performance of perfectly matched layers by means of hp-adaptivity}\", Numer. Meth. PDEs. 23(4), pg. 832--858, 2007\n",
    "\n",
    "we use the transformation $x_j \\rightarrow x_j - \\mathrm{i}b_j(x) = z_j(x_j)$ with $\\frac{\\partial}{\\partial x_j} \\rightarrow \\frac{\\partial}{\\partial z_j(x_j)} = \\frac{1}{z_j\\prime(x_j)}\\frac{\\partial}{\\partial x_j}$. For $z_j(x_j) = \\mathrm{i}b_j(x_j)$, $z\\prime_j =1 - \\mathrm{i}\\left(\\frac{\\partial b_j(x_j)}{\\partial x_j} \\right)$.\n",
    "\n",
    "The updated differential equation is therefore $\\frac{\\partial}{\\partial x_j} \\rightarrow \\frac{1}{1-\\mathrm{i}\\left(\\frac{\\partial b_j(x_j)}{\\partial x_j} \\right)}\\frac{\\partial}{\\partial x_j}$.\n",
    "\n",
    "\n"
   ]
  },
  {
   "cell_type": "code",
   "execution_count": 11,
   "id": "517c188e",
   "metadata": {},
   "outputs": [
    {
     "data": {
      "application/vnd.jupyter.widget-view+json": {
       "model_id": "164ac544f1754ef3af9352511cb7c477",
       "version_major": 2,
       "version_minor": 0
      },
      "text/plain": [
       "WebGuiWidget(layout=Layout(height='50vh', width='100%'), value={'ngsolve_version': 'Netgen x.x', 'mesh_dim': 3…"
      ]
     },
     "metadata": {},
     "output_type": "display_data"
    },
    {
     "data": {
      "application/vnd.jupyter.widget-view+json": {
       "model_id": "72e83a3a267f4e2fbdbbd3ebe78ce403",
       "version_major": 2,
       "version_minor": 0
      },
      "text/plain": [
       "WebGuiWidget(layout=Layout(height='50vh', width='100%'), value={'gui_settings': {}, 'ngsolve_version': '6.2.23…"
      ]
     },
     "metadata": {},
     "output_type": "display_data"
    },
    {
     "data": {
      "text/plain": [
       "BaseWebGuiScene"
      ]
     },
     "execution_count": 11,
     "metadata": {},
     "output_type": "execute_result"
    }
   ],
   "source": [
    "\n",
    "wp = WorkPlane()\n",
    "wp.MoveTo(-0.5,-0.5)\n",
    "inner = wp.Rectangle(1,1).Face()\n",
    "wp.MoveTo(-1,-1)\n",
    "outer = wp.Rectangle(2,2).Face()\n",
    "\n",
    "\n",
    "outer.edges.name = 'outerbnd'\n",
    "inner.edges.name = 'innerbnd'\n",
    "inner.faces.name ='inner'\n",
    "pmlregion = outer - inner\n",
    "pmlregion.faces.name = 'pmlregion'\n",
    "geo = OCCGeometry(Glue([inner, pmlregion]), dim=2)\n",
    "\n",
    "Drawgeo(Glue([inner, pmlregion]))\n",
    "\n",
    "mesh = Mesh(geo.GenerateMesh (maxh=0.1))\n",
    "Draw(mesh)"
   ]
  },
  {
   "cell_type": "markdown",
   "id": "fe43c9fb",
   "metadata": {},
   "source": [
    "Choosing\n",
    "\\begin{equation}\n",
    "z_j = \\begin{cases}\n",
    "x_j - \\mathrm{i}\\left( \\frac{|x_j| - d}{0.5} \\right)x_j &\\text{ for } |x_j| > d \\\\\n",
    "x_j &\\text{ otherwise}\n",
    "\\end{cases}\n",
    "\\end{equation}\n",
    "inside the PML.\n",
    "\n",
    "The updated weak form is \n",
    "\\begin{equation}\n",
    "\n",
    "\\end{equation}"
   ]
  },
  {
   "cell_type": "code",
   "execution_count": 12,
   "id": "b2e37f49",
   "metadata": {},
   "outputs": [],
   "source": [
    "def absval(x):\n",
    "    return sqrt(x**2)"
   ]
  },
  {
   "cell_type": "code",
   "execution_count": 13,
   "id": "9de1d55d",
   "metadata": {},
   "outputs": [
    {
     "data": {
      "application/vnd.jupyter.widget-view+json": {
       "model_id": "62ac00fffaaa4230b2129868aa3a7e6f",
       "version_major": 2,
       "version_minor": 0
      },
      "text/plain": [
       "WebGuiWidget(layout=Layout(height='50vh', width='100%'), value={'gui_settings': {}, 'ngsolve_version': '6.2.23…"
      ]
     },
     "metadata": {},
     "output_type": "display_data"
    },
    {
     "data": {
      "application/vnd.jupyter.widget-view+json": {
       "model_id": "710bfc9eabd2411bb992a3456f7d75f4",
       "version_major": 2,
       "version_minor": 0
      },
      "text/plain": [
       "WebGuiWidget(layout=Layout(height='50vh', width='100%'), value={'gui_settings': {}, 'ngsolve_version': '6.2.23…"
      ]
     },
     "metadata": {},
     "output_type": "display_data"
    },
    {
     "data": {
      "text/plain": [
       "BaseWebGuiScene"
      ]
     },
     "execution_count": 13,
     "metadata": {},
     "output_type": "execute_result"
    }
   ],
   "source": [
    "d = 2\n",
    "z_x = IfPos(absval(x) - 0.5, x - (1j * ( absval(x) - d)/0.5)**1 * x, x) # returns z_j if |x|>0.5 else returns x\n",
    "z_y = IfPos(absval(y) - 0.5, y - (1j * ( absval(y) - d)/0.5)**1 * y, y) # returns z_j if |y|>0.5 else returns y\n",
    "\n",
    "Draw(z_x.imag, mesh)\n",
    "Draw(z_y.imag, mesh)"
   ]
  },
  {
   "cell_type": "code",
   "execution_count": 14,
   "id": "4706fbd4",
   "metadata": {},
   "outputs": [
    {
     "data": {
      "application/vnd.jupyter.widget-view+json": {
       "model_id": "11671b9a3efd4bc5b442064fe3bb8680",
       "version_major": 2,
       "version_minor": 0
      },
      "text/plain": [
       "WebGuiWidget(layout=Layout(height='50vh', width='100%'), value={'gui_settings': {}, 'ngsolve_version': '6.2.23…"
      ]
     },
     "metadata": {},
     "output_type": "display_data"
    },
    {
     "data": {
      "application/vnd.jupyter.widget-view+json": {
       "model_id": "2182b9fdaee04d219139887f8e1e0507",
       "version_major": 2,
       "version_minor": 0
      },
      "text/plain": [
       "WebGuiWidget(layout=Layout(height='50vh', width='100%'), value={'gui_settings': {}, 'ngsolve_version': '6.2.23…"
      ]
     },
     "metadata": {},
     "output_type": "display_data"
    },
    {
     "data": {
      "application/vnd.jupyter.widget-view+json": {
       "model_id": "2768a8cd6da74591af4c7d9ffc4326dc",
       "version_major": 2,
       "version_minor": 0
      },
      "text/plain": [
       "WebGuiWidget(layout=Layout(height='50vh', width='100%'), value={'gui_settings': {}, 'ngsolve_version': '6.2.23…"
      ]
     },
     "metadata": {},
     "output_type": "display_data"
    },
    {
     "data": {
      "text/plain": [
       "BaseWebGuiScene"
      ]
     },
     "execution_count": 14,
     "metadata": {},
     "output_type": "execute_result"
    }
   ],
   "source": [
    "dzx = z_x.Diff(x)\n",
    "dzy = z_y.Diff(y)\n",
    "\n",
    "Draw(dzx.imag, mesh)\n",
    "Draw(dzy.imag, mesh)\n",
    "\n",
    "dz_tot = dzx * dzy\n",
    "Draw(dz_tot.imag,mesh)"
   ]
  },
  {
   "cell_type": "code",
   "execution_count": 15,
   "id": "3c5a8ded",
   "metadata": {},
   "outputs": [
    {
     "data": {
      "application/vnd.jupyter.widget-view+json": {
       "model_id": "c1761ba4e9b74ca7bbde99d493711c75",
       "version_major": 2,
       "version_minor": 0
      },
      "text/plain": [
       "WebGuiWidget(layout=Layout(height='50vh', width='100%'), value={'gui_settings': {}, 'ngsolve_version': '6.2.23…"
      ]
     },
     "metadata": {},
     "output_type": "display_data"
    },
    {
     "data": {
      "text/plain": [
       "BaseWebGuiScene"
      ]
     },
     "execution_count": 15,
     "metadata": {},
     "output_type": "execute_result"
    }
   ],
   "source": [
    "\n",
    "Z = CF((dz_tot / (dzx**2), dz_tot / (dzy**2)))\n",
    "\n",
    "#Z = CF((1,1))\n",
    "#dz_tot = 1\n",
    "\n",
    "fes = H1(mesh, order=4, complex=True, dirichlet='outerbnd')\n",
    "u = fes.TrialFunction()\n",
    "v = fes.TestFunction()\n",
    "omega = 10\n",
    "\n",
    "a = BilinearForm(fes)\n",
    "\n",
    "\n",
    "inner = CF( Z[0] * grad(u)[0] * grad(v)[0] + Z[1] * grad(u)[1] * grad(v)[1])\n",
    "\n",
    "a += inner * dx - dz_tot *omega**2*u*v * dx\n",
    "a += -1j*omega*u*v * ds('outerbnd')\n",
    "a.Assemble()\n",
    "\n",
    "#f = exp(-20**2*((x+gamma-0.3)*(x+gamma-0.3)+y*gamma*y*gamma))\n",
    "\n",
    "b = LinearForm(fes)\n",
    "b += f * v * dx\n",
    "b.Assemble()\n",
    "\n",
    "\n",
    "gfu = GridFunction(fes)\n",
    "gfu.Set(0, BND)\n",
    "gfu.vec.data = a.mat.Inverse() * b.vec\n",
    "\n",
    "Draw(gfu, mesh)#, max=0.0018, min=-0.00097)"
   ]
  }
 ],
 "metadata": {
  "kernelspec": {
   "display_name": "Python 3 (ipykernel)",
   "language": "python",
   "name": "python3"
  },
  "language_info": {
   "codemirror_mode": {
    "name": "ipython",
    "version": 3
   },
   "file_extension": ".py",
   "mimetype": "text/x-python",
   "name": "python",
   "nbconvert_exporter": "python",
   "pygments_lexer": "ipython3",
   "version": "3.10.12"
  },
  "varInspector": {
   "cols": {
    "lenName": 16,
    "lenType": 16,
    "lenVar": 40
   },
   "kernels_config": {
    "python": {
     "delete_cmd_postfix": "",
     "delete_cmd_prefix": "del ",
     "library": "var_list.py",
     "varRefreshCmd": "print(var_dic_list())"
    },
    "r": {
     "delete_cmd_postfix": ") ",
     "delete_cmd_prefix": "rm(",
     "library": "var_list.r",
     "varRefreshCmd": "cat(var_dic_list()) "
    }
   },
   "types_to_exclude": [
    "module",
    "function",
    "builtin_function_or_method",
    "instance",
    "_Feature"
   ],
   "window_display": false
  }
 },
 "nbformat": 4,
 "nbformat_minor": 5
}
