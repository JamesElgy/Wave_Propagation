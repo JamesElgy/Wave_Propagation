{
 "cells": [
  {
   "cell_type": "code",
   "execution_count": 1,
   "id": "6701c2f2",
   "metadata": {},
   "outputs": [],
   "source": [
    "from ngsolve import *\n",
    "from ngsolve.webgui import Draw\n",
    "from netgen.occ import *\n",
    "from netgen.webgui import Draw as Drawgeo\n",
    "import matplotlib.pyplot as plt\n",
    "import numpy as np"
   ]
  },
  {
   "cell_type": "code",
   "execution_count": 2,
   "id": "2481fb56",
   "metadata": {},
   "outputs": [
    {
     "data": {
      "application/vnd.jupyter.widget-view+json": {
       "model_id": "c20248c1faf04497a8897f9a5ac6517d",
       "version_major": 2,
       "version_minor": 0
      },
      "text/plain": [
       "WebGuiWidget(layout=Layout(height='50vh', width='100%'), value={'gui_settings': {}, 'ngsolve_version': '6.2.23…"
      ]
     },
     "metadata": {},
     "output_type": "display_data"
    },
    {
     "data": {
      "text/plain": [
       "BaseWebGuiScene"
      ]
     },
     "execution_count": 2,
     "metadata": {},
     "output_type": "execute_result"
    }
   ],
   "source": [
    "def generate_mesh(h, inner_rect_size, PML_size):\n",
    "    \n",
    "    inner_rect=WorkPlane().RectangleC(inner_rect_size,inner_rect_size).Face()\n",
    "    scatterer = WorkPlane().Circle(0,0,1).Face()\n",
    "\n",
    "    inner_rect.edges.name = 'innerbnd'\n",
    "    scatterer.edges.name = 'scabnd'\n",
    "\n",
    "    inner = inner_rect - scatterer\n",
    "\n",
    "    #Drawgeo(inner)\n",
    "\n",
    "    wp2=WorkPlane().RectangleC(inner_rect_size+inner_rect_size,inner_rect_size+inner_rect_size).RectangleC(5,5).Reverse()\n",
    "    outer = wp2.Face()\n",
    "\n",
    "    outer.edges.name = 'outerbnd'\n",
    "    #inner.edges.name = 'innerbnd'\n",
    "    inner.faces.name ='inner'\n",
    "    outer.faces.name = 'pmlregion'\n",
    "\n",
    "    #Drawgeo(Glue([outer,inner]))\n",
    "\n",
    "    geo = OCCGeometry(Glue([inner, outer]), dim=2)\n",
    "    mesh = Mesh(geo.GenerateMesh (maxh=h))\n",
    "    mesh.Curve(5)\n",
    "    return mesh\n",
    "\n",
    "inner_rect_size = 5\n",
    "PML_size = 5\n",
    "h = 0.3\n",
    "mesh = generate_mesh(h, inner_rect_size, PML_size)\n",
    "Draw(mesh)\n"
   ]
  },
  {
   "cell_type": "code",
   "execution_count": 15,
   "id": "7fb21c52",
   "metadata": {},
   "outputs": [
    {
     "data": {
      "application/vnd.jupyter.widget-view+json": {
       "model_id": "eedd5cfad7cf494b852103a997a27990",
       "version_major": 2,
       "version_minor": 0
      },
      "text/plain": [
       "WebGuiWidget(layout=Layout(height='50vh', width='100%'), value={'gui_settings': {}, 'ngsolve_version': '6.2.23…"
      ]
     },
     "metadata": {},
     "output_type": "display_data"
    },
    {
     "data": {
      "text/plain": [
       "BaseWebGuiScene"
      ]
     },
     "execution_count": 15,
     "metadata": {},
     "output_type": "execute_result"
    }
   ],
   "source": [
    "K = CF((3.14159 * 2, 0))\n",
    "phasor = exp(1j * ((K[1] * x) + (K[0] * z)))\n",
    "ez = 1 * phasor\n",
    "Draw(ez, mesh)"
   ]
  },
  {
   "cell_type": "code",
   "execution_count": 16,
   "id": "d94ed0bd",
   "metadata": {},
   "outputs": [
    {
     "ename": "NgException",
     "evalue": "Error in SetValues: gridfunction-dim = 2, but coefficient-dim = 1",
     "output_type": "error",
     "traceback": [
      "\u001b[1;31m---------------------------------------------------------------------------\u001b[0m",
      "\u001b[1;31mNgException\u001b[0m                               Traceback (most recent call last)",
      "Cell \u001b[1;32mIn[16], line 18\u001b[0m\n\u001b[0;32m     15\u001b[0m b\u001b[38;5;241m.\u001b[39mAssemble()\n\u001b[0;32m     17\u001b[0m scat \u001b[38;5;241m=\u001b[39m GridFunction(fes)\n\u001b[1;32m---> 18\u001b[0m \u001b[43mscat\u001b[49m\u001b[38;5;241;43m.\u001b[39;49m\u001b[43mSet\u001b[49m\u001b[43m(\u001b[49m\u001b[38;5;241;43m-\u001b[39;49m\u001b[43mez\u001b[49m\u001b[43m,\u001b[49m\u001b[43m \u001b[49m\u001b[43mBND\u001b[49m\u001b[43m)\u001b[49m\n\u001b[0;32m     20\u001b[0m r \u001b[38;5;241m=\u001b[39m b\u001b[38;5;241m.\u001b[39mvec \u001b[38;5;241m-\u001b[39m a\u001b[38;5;241m.\u001b[39mmat \u001b[38;5;241m*\u001b[39m scat\u001b[38;5;241m.\u001b[39mvec\n\u001b[0;32m     21\u001b[0m scat\u001b[38;5;241m.\u001b[39mvec\u001b[38;5;241m.\u001b[39mdata \u001b[38;5;241m+\u001b[39m\u001b[38;5;241m=\u001b[39m a\u001b[38;5;241m.\u001b[39mmat\u001b[38;5;241m.\u001b[39mInverse(freedofs\u001b[38;5;241m=\u001b[39mfes\u001b[38;5;241m.\u001b[39mFreeDofs()) \u001b[38;5;241m*\u001b[39m r\n",
      "\u001b[1;31mNgException\u001b[0m: Error in SetValues: gridfunction-dim = 2, but coefficient-dim = 1"
     ]
    }
   ],
   "source": [
    "fes = HCurl(mesh, order=4, complex=True, dirichlet='scabnd')\n",
    "u = fes.TrialFunction()\n",
    "v = fes.TestFunction()\n",
    "\n",
    "omega = sqrt(K[0]**2 + K[1]**2)\n",
    "\n",
    "a = BilinearForm(fes, symmetric=True)\n",
    "a += curl(u)*curl(v)*dx - omega**2*u*v*dx\n",
    "#a += -1j*omega*u*v*ds(\"outerbnd\")\n",
    "a.Assemble()\n",
    "\n",
    "\n",
    "b = LinearForm(fes)\n",
    "b += SymbolicLFI(0)\n",
    "b.Assemble()\n",
    "\n",
    "scat = GridFunction(fes)\n",
    "scat.Set(-ez, BND)\n",
    "\n",
    "r = b.vec - a.mat * scat.vec\n",
    "scat.vec.data += a.mat.Inverse(freedofs=fes.FreeDofs()) * r\n",
    "\n",
    "Draw(scat, mesh)\n",
    "#Draw(ez, mesh)\n",
    "#Draw(scat - ez, mesh)"
   ]
  },
  {
   "cell_type": "code",
   "execution_count": 9,
   "id": "8984ecb1",
   "metadata": {},
   "outputs": [
    {
     "data": {
      "text/plain": [
       "<ngsolve.fem.CoefficientFunction at 0x18fff6a7f10>"
      ]
     },
     "execution_count": 9,
     "metadata": {},
     "output_type": "execute_result"
    }
   ],
   "source": [
    "ez"
   ]
  },
  {
   "cell_type": "code",
   "execution_count": 10,
   "id": "85951d8c",
   "metadata": {},
   "outputs": [
    {
     "data": {
      "text/plain": [
       "1"
      ]
     },
     "execution_count": 10,
     "metadata": {},
     "output_type": "execute_result"
    }
   ],
   "source": [
    "ez.dim"
   ]
  },
  {
   "cell_type": "code",
   "execution_count": 12,
   "id": "b6f4e6de",
   "metadata": {},
   "outputs": [
    {
     "ename": "IndexError",
     "evalue": "",
     "output_type": "error",
     "traceback": [
      "\u001b[1;31m---------------------------------------------------------------------------\u001b[0m",
      "\u001b[1;31mIndexError\u001b[0m                                Traceback (most recent call last)",
      "Cell \u001b[1;32mIn[12], line 1\u001b[0m\n\u001b[1;32m----> 1\u001b[0m \u001b[43mez\u001b[49m\u001b[43m[\u001b[49m\u001b[38;5;241;43m1\u001b[39;49m\u001b[43m]\u001b[49m\n",
      "\u001b[1;31mIndexError\u001b[0m: "
     ]
    }
   ],
   "source": [
    "ez[1]"
   ]
  },
  {
   "cell_type": "code",
   "execution_count": null,
   "id": "4764cf70",
   "metadata": {},
   "outputs": [],
   "source": []
  }
 ],
 "metadata": {
  "kernelspec": {
   "display_name": "Python 3 (ipykernel)",
   "language": "python",
   "name": "python3"
  },
  "language_info": {
   "codemirror_mode": {
    "name": "ipython",
    "version": 3
   },
   "file_extension": ".py",
   "mimetype": "text/x-python",
   "name": "python",
   "nbconvert_exporter": "python",
   "pygments_lexer": "ipython3",
   "version": "3.10.10"
  }
 },
 "nbformat": 4,
 "nbformat_minor": 5
}
