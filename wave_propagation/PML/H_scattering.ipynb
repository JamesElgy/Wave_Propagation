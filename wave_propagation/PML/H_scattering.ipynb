{
 "cells": [
  {
   "cell_type": "code",
   "execution_count": 1,
   "id": "6701c2f2",
   "metadata": {},
   "outputs": [
    {
     "name": "stderr",
     "output_type": "stream",
     "text": [
      "C:\\Users\\James\\AppData\\Local\\Temp\\ipykernel_10600\\3909091748.py:8: DeprecationWarning: Importing display from IPython.core.display is deprecated since IPython 7.14, please import from IPython display\n",
      "  from IPython.core.display import display, HTML\n"
     ]
    },
    {
     "data": {
      "text/html": [
       "<style>div.output_scroll { width: 44em; }</style>"
      ],
      "text/plain": [
       "<IPython.core.display.HTML object>"
      ]
     },
     "metadata": {},
     "output_type": "display_data"
    }
   ],
   "source": [
    "from ngsolve import *\n",
    "from ngsolve.webgui import Draw\n",
    "from netgen.occ import *\n",
    "from netgen.webgui import Draw as Drawgeo\n",
    "import matplotlib.pyplot as plt\n",
    "import numpy as np\n",
    "\n",
    "from IPython.core.display import display, HTML\n",
    "display(HTML(\"<style>div.output_scroll { width: 44em; }</style>\"))"
   ]
  },
  {
   "cell_type": "code",
   "execution_count": 2,
   "id": "2481fb56",
   "metadata": {},
   "outputs": [
    {
     "data": {
      "application/vnd.jupyter.widget-view+json": {
       "model_id": "de6ebeb5caad42e7b45843fbd4e98dc1",
       "version_major": 2,
       "version_minor": 0
      },
      "text/plain": [
       "WebGuiWidget(layout=Layout(height='50vh', width='100%'), value={'gui_settings': {}, 'ngsolve_version': '6.2.23…"
      ]
     },
     "metadata": {},
     "output_type": "display_data"
    },
    {
     "data": {
      "text/plain": [
       "BaseWebGuiScene"
      ]
     },
     "execution_count": 2,
     "metadata": {},
     "output_type": "execute_result"
    }
   ],
   "source": [
    "def generate_mesh(h, inner_rect_size, PML_size):\n",
    "    \n",
    "    inner_rect=WorkPlane().RectangleC(inner_rect_size,inner_rect_size).Face()\n",
    "    scatterer = WorkPlane().Circle(0,0,1).Face()\n",
    "\n",
    "    inner_rect.edges.name = 'innerbnd'\n",
    "    scatterer.edges.name = 'scabnd'\n",
    "\n",
    "    inner = inner_rect - scatterer\n",
    "\n",
    "    #Drawgeo(inner)\n",
    "\n",
    "    wp2=WorkPlane().RectangleC(inner_rect_size+inner_rect_size,inner_rect_size+inner_rect_size).RectangleC(inner_rect_size,inner_rect_size).Reverse()\n",
    "    outer = wp2.Face()\n",
    "\n",
    "    outer.edges.name = 'outerbnd'\n",
    "    #inner.edges.name = 'innerbnd'\n",
    "    inner.faces.name ='inner'\n",
    "    outer.faces.name = 'pmlregion'\n",
    "\n",
    "    #Drawgeo(Glue([outer,inner]))\n",
    "\n",
    "    geo = OCCGeometry(Glue([inner, outer]), dim=2)\n",
    "    mesh = Mesh(geo.GenerateMesh (maxh=h))\n",
    "    mesh.Curve(5)\n",
    "    return mesh\n",
    "\n",
    "inner_rect_size = 10\n",
    "PML_size = 5\n",
    "h = 0.3\n",
    "mesh = generate_mesh(h, inner_rect_size, PML_size)\n",
    "Draw(mesh)\n",
    "\n",
    "\n"
   ]
  },
  {
   "cell_type": "code",
   "execution_count": 3,
   "id": "7fb21c52",
   "metadata": {},
   "outputs": [
    {
     "data": {
      "application/vnd.jupyter.widget-view+json": {
       "model_id": "b85e48de6773444195138708b0574f8e",
       "version_major": 2,
       "version_minor": 0
      },
      "text/plain": [
       "WebGuiWidget(layout=Layout(height='50vh', width='100%'), value={'gui_settings': {}, 'ngsolve_version': '6.2.23…"
      ]
     },
     "metadata": {},
     "output_type": "display_data"
    },
    {
     "data": {
      "text/plain": [
       "BaseWebGuiScene"
      ]
     },
     "execution_count": 3,
     "metadata": {},
     "output_type": "execute_result"
    }
   ],
   "source": [
    "K = CF((2*np.pi, 0))\n",
    "phasor = exp(1j * ((K[0] * x) + (K[1] * y)))\n",
    "ex = 1 * phasor\n",
    "ey = 1 * phasor\n",
    "ez =  CF((ex, ey))\n",
    "Draw(ez, mesh)"
   ]
  },
  {
   "cell_type": "markdown",
   "id": "bb7d5658-e703-43c3-91c9-17047e2da921",
   "metadata": {},
   "source": [
    "## Without PML:"
   ]
  },
  {
   "cell_type": "code",
   "execution_count": 4,
   "id": "d94ed0bd",
   "metadata": {},
   "outputs": [
    {
     "data": {
      "application/vnd.jupyter.widget-view+json": {
       "model_id": "1800de23d7e74f63b9d9879c4b902330",
       "version_major": 2,
       "version_minor": 0
      },
      "text/plain": [
       "WebGuiWidget(layout=Layout(height='50vh', width='100%'), value={'gui_settings': {}, 'ngsolve_version': '6.2.23…"
      ]
     },
     "metadata": {},
     "output_type": "display_data"
    },
    {
     "data": {
      "application/vnd.jupyter.widget-view+json": {
       "model_id": "896ce6bb181a4f528ded19ab5741308f",
       "version_major": 2,
       "version_minor": 0
      },
      "text/plain": [
       "WebGuiWidget(layout=Layout(height='50vh', width='100%'), value={'gui_settings': {}, 'ngsolve_version': '6.2.23…"
      ]
     },
     "metadata": {},
     "output_type": "display_data"
    },
    {
     "data": {
      "application/vnd.jupyter.widget-view+json": {
       "model_id": "3d1f23da8cc149a0acb94dde7b1386e1",
       "version_major": 2,
       "version_minor": 0
      },
      "text/plain": [
       "WebGuiWidget(layout=Layout(height='50vh', width='100%'), value={'gui_settings': {}, 'ngsolve_version': '6.2.23…"
      ]
     },
     "metadata": {},
     "output_type": "display_data"
    },
    {
     "data": {
      "text/plain": [
       "BaseWebGuiScene"
      ]
     },
     "execution_count": 4,
     "metadata": {},
     "output_type": "execute_result"
    }
   ],
   "source": [
    "fes = HCurl(mesh, order=4, complex=True, dirichlet='scabnd')\n",
    "u = fes.TrialFunction()\n",
    "v = fes.TestFunction()\n",
    "\n",
    "omega = sqrt(K[0]**2 + K[1]**2)\n",
    "\n",
    "a = BilinearForm(fes, symmetric=True)\n",
    "a += curl(u)*curl(v)*dx - omega**2*u*v*dx\n",
    "a += -1j * omega * u.Trace() * v.Trace() * ds('outerbnd')\n",
    "#a += -1j*omega*(u)*(v)*ds(\"outerbnd\")\n",
    "a.Assemble()\n",
    "\n",
    "\n",
    "b = LinearForm(fes)\n",
    "b += SymbolicLFI(0)\n",
    "b.Assemble()\n",
    "\n",
    "scat = GridFunction(fes)\n",
    "scat.Set(-ez, BND)\n",
    "\n",
    "r = b.vec - a.mat * scat.vec\n",
    "scat.vec.data += a.mat.Inverse(freedofs=fes.FreeDofs()) * r\n",
    "\n",
    "Draw(scat, mesh)\n",
    "Draw(ez, mesh)\n",
    "Draw(scat - ez, mesh)"
   ]
  },
  {
   "cell_type": "markdown",
   "id": "1f7c653c-6e1f-4729-b2c0-381071951999",
   "metadata": {},
   "source": [
    "## With PML"
   ]
  },
  {
   "cell_type": "code",
   "execution_count": 5,
   "id": "a1434643-be64-4d9c-9799-ce121ba76e26",
   "metadata": {},
   "outputs": [
    {
     "data": {
      "application/vnd.jupyter.widget-view+json": {
       "model_id": "a9b3ecc2b8cc44dc892b50e051f0c745",
       "version_major": 2,
       "version_minor": 0
      },
      "text/plain": [
       "WebGuiWidget(layout=Layout(height='50vh', width='100%'), value={'gui_settings': {}, 'ngsolve_version': '6.2.23…"
      ]
     },
     "metadata": {},
     "output_type": "display_data"
    },
    {
     "data": {
      "application/vnd.jupyter.widget-view+json": {
       "model_id": "233795e8cb7943dabb76046765364a76",
       "version_major": 2,
       "version_minor": 0
      },
      "text/plain": [
       "WebGuiWidget(layout=Layout(height='50vh', width='100%'), value={'gui_settings': {}, 'ngsolve_version': '6.2.23…"
      ]
     },
     "metadata": {},
     "output_type": "display_data"
    },
    {
     "data": {
      "text/plain": [
       "BaseWebGuiScene"
      ]
     },
     "execution_count": 5,
     "metadata": {},
     "output_type": "execute_result"
    }
   ],
   "source": [
    "def absval(x):\n",
    "    return sqrt(x**2)\n",
    "\n",
    "d = inner_rect_size\n",
    "z_x = IfPos(absval(x) - 2.5, x + (1j * ( absval(x) - d)/0.5) * x, x) # returns z_j if |x|>2.5 else returns x\n",
    "z_y = IfPos(absval(y) - 2.5, y + (1j * ( absval(y) - d)/0.5) * y, y) # returns z_j if |y|>2.5 else returns y\n",
    "\n",
    "Draw(z_x.imag, mesh)\n",
    "Draw(z_y.imag, mesh)"
   ]
  },
  {
   "cell_type": "code",
   "execution_count": 6,
   "id": "c69e0362-ad07-408d-887e-f3258dc26f70",
   "metadata": {
    "editable": true,
    "slideshow": {
     "slide_type": ""
    },
    "tags": []
   },
   "outputs": [
    {
     "data": {
      "application/vnd.jupyter.widget-view+json": {
       "model_id": "4c8475f325bc406196db7502c3c854cd",
       "version_major": 2,
       "version_minor": 0
      },
      "text/plain": [
       "WebGuiWidget(layout=Layout(height='50vh', width='100%'), value={'gui_settings': {}, 'ngsolve_version': '6.2.23…"
      ]
     },
     "metadata": {},
     "output_type": "display_data"
    },
    {
     "data": {
      "application/vnd.jupyter.widget-view+json": {
       "model_id": "0a362655002c463cad0ff293d55d0973",
       "version_major": 2,
       "version_minor": 0
      },
      "text/plain": [
       "WebGuiWidget(layout=Layout(height='50vh', width='100%'), value={'gui_settings': {}, 'ngsolve_version': '6.2.23…"
      ]
     },
     "metadata": {},
     "output_type": "display_data"
    },
    {
     "data": {
      "application/vnd.jupyter.widget-view+json": {
       "model_id": "10d31b7576d84b8187cd7ad141505b5f",
       "version_major": 2,
       "version_minor": 0
      },
      "text/plain": [
       "WebGuiWidget(layout=Layout(height='50vh', width='100%'), value={'gui_settings': {}, 'ngsolve_version': '6.2.23…"
      ]
     },
     "metadata": {},
     "output_type": "display_data"
    },
    {
     "data": {
      "text/plain": [
       "BaseWebGuiScene"
      ]
     },
     "execution_count": 6,
     "metadata": {},
     "output_type": "execute_result"
    }
   ],
   "source": [
    "dzx = z_x.Diff(x)\n",
    "dzy = z_y.Diff(y)\n",
    "\n",
    "Draw(dzx.imag, mesh)\n",
    "Draw(dzy.imag, mesh)\n",
    "\n",
    "dz_tot = dzx * dzy\n",
    "Draw(dz_tot.imag,mesh)"
   ]
  },
  {
   "cell_type": "code",
   "execution_count": 7,
   "id": "f3aee575-6837-4d50-a295-ab209250f1ad",
   "metadata": {},
   "outputs": [
    {
     "ename": "NgException",
     "evalue": "SymblicBFI needs scalar-valued CoefficientFunction",
     "output_type": "error",
     "traceback": [
      "\u001b[1;31m---------------------------------------------------------------------------\u001b[0m",
      "\u001b[1;31mNgException\u001b[0m                               Traceback (most recent call last)",
      "Cell \u001b[1;32mIn[7], line 36\u001b[0m\n\u001b[0;32m     33\u001b[0m     scat_pml\u001b[38;5;241m.\u001b[39mvec\u001b[38;5;241m.\u001b[39mdata \u001b[38;5;241m+\u001b[39m\u001b[38;5;241m=\u001b[39m a\u001b[38;5;241m.\u001b[39mmat\u001b[38;5;241m.\u001b[39mInverse(freedofs\u001b[38;5;241m=\u001b[39mfes\u001b[38;5;241m.\u001b[39mFreeDofs()) \u001b[38;5;241m*\u001b[39m r\n\u001b[0;32m     34\u001b[0m     \u001b[38;5;28;01mreturn\u001b[39;00m scat_pml, fes\u001b[38;5;241m.\u001b[39mndof\n\u001b[1;32m---> 36\u001b[0m scat_pml, _ \u001b[38;5;241m=\u001b[39m \u001b[43mWith_PML\u001b[49m\u001b[43m(\u001b[49m\u001b[43mmesh\u001b[49m\u001b[43m,\u001b[49m\u001b[43m \u001b[49m\u001b[38;5;241;43m5\u001b[39;49m\u001b[43m,\u001b[49m\u001b[43m \u001b[49m\u001b[43mK\u001b[49m\u001b[43m,\u001b[49m\u001b[43m \u001b[49m\u001b[43mez\u001b[49m\u001b[43m,\u001b[49m\u001b[43m \u001b[49m\u001b[43mZ\u001b[49m\u001b[43m,\u001b[49m\u001b[43m \u001b[49m\u001b[43mdz_tot\u001b[49m\u001b[43m)\u001b[49m\n\u001b[0;32m     38\u001b[0m Draw(scat_pml);\n\u001b[0;32m     39\u001b[0m \u001b[38;5;66;03m#Draw(ez, mesh)\u001b[39;00m\n\u001b[0;32m     40\u001b[0m \u001b[38;5;66;03m#Draw(scat_pml - ez, mesh)\u001b[39;00m\n",
      "Cell \u001b[1;32mIn[7], line 19\u001b[0m, in \u001b[0;36mWith_PML\u001b[1;34m(mesh, p, K, ez, Z, dz_tot)\u001b[0m\n\u001b[0;32m     15\u001b[0m inner \u001b[38;5;241m=\u001b[39m curl(u)\u001b[38;5;241m*\u001b[39mcurl(v)\n\u001b[0;32m     18\u001b[0m a \u001b[38;5;241m=\u001b[39m BilinearForm(fes, symmetric\u001b[38;5;241m=\u001b[39m\u001b[38;5;28;01mTrue\u001b[39;00m)\n\u001b[1;32m---> 19\u001b[0m a \u001b[38;5;241m+\u001b[39m\u001b[38;5;241m=\u001b[39m Z\u001b[38;5;241m*\u001b[39minner \u001b[38;5;241m*\u001b[39m dx \u001b[38;5;241m-\u001b[39m dz_tot \u001b[38;5;241m*\u001b[39momega\u001b[38;5;241m*\u001b[39m\u001b[38;5;241m*\u001b[39m\u001b[38;5;241m2\u001b[39m\u001b[38;5;241m*\u001b[39mu\u001b[38;5;241m*\u001b[39mv \u001b[38;5;241m*\u001b[39m dx\n\u001b[0;32m     20\u001b[0m \u001b[38;5;66;03m#a += -1j*omega*u*v * ds('outerbnd')\u001b[39;00m\n\u001b[0;32m     21\u001b[0m a\u001b[38;5;241m.\u001b[39mAssemble()\n",
      "\u001b[1;31mNgException\u001b[0m: SymblicBFI needs scalar-valued CoefficientFunction"
     ]
    }
   ],
   "source": [
    "Z = CF((dz_tot / (dzx**2), dz_tot / (dzy**2)))\n",
    "#Z = CF((1,1))\n",
    "#dz_tot = 1\n",
    "\n",
    "\n",
    "def With_PML(mesh, p, K, ez, Z, dz_tot):\n",
    "\n",
    "    fes = HCurl(mesh, order=p, complex=True, dirichlet='scabnd')\n",
    "    u = fes.TrialFunction()\n",
    "    v = fes.TestFunction()\n",
    "\n",
    "    omega = sqrt(K[0]**2 + K[1]**2)\n",
    "\n",
    "    #inner = CF( Z[0] * curl(u)[0] * curl(v)[0] + Z[1] * curl(u)[1] * curl(v)[1])\n",
    "    inner = curl(u)*curl(v)\n",
    "\n",
    "\n",
    "    a = BilinearForm(fes, symmetric=True)\n",
    "    a += Z*inner * dx - dz_tot *omega**2*u*v * dx\n",
    "    #a += -1j*omega*u*v * ds('outerbnd')\n",
    "    a.Assemble()\n",
    "\n",
    "\n",
    "    b = LinearForm(fes)\n",
    "    b += SymbolicLFI(0)\n",
    "    b.Assemble()\n",
    "\n",
    "    scat_pml = GridFunction(fes)\n",
    "    scat_pml.Set(-ez, BND)\n",
    "\n",
    "    r = b.vec.CreateVector()\n",
    "    r = b.vec - a.mat * scat_pml.vec\n",
    "    scat_pml.vec.data += a.mat.Inverse(freedofs=fes.FreeDofs()) * r\n",
    "    return scat_pml, fes.ndof\n",
    "\n",
    "scat_pml, _ = With_PML(mesh, 5, K, ez, Z, dz_tot)\n",
    "\n",
    "Draw(scat_pml);\n",
    "#Draw(ez, mesh)\n",
    "#Draw(scat_pml - ez, mesh)"
   ]
  },
  {
   "cell_type": "code",
   "execution_count": null,
   "id": "22d42884",
   "metadata": {
    "editable": true,
    "slideshow": {
     "slide_type": ""
    },
    "tags": []
   },
   "outputs": [],
   "source": [
    "\"\"\"\n",
    "from ngsolve import *\n",
    "from ngsolve.webgui import Draw\n",
    "from netgen.webgui import Draw as DrawGeo\n",
    "from netgen.geom2d import SplineGeometry\n",
    "from math import pi\n",
    "\n",
    "geo = SplineGeometry()\n",
    "geo.AddRectangle( (-0.1, -0.25), (0.1, 0.25), leftdomain=0, rightdomain=1, bc = \"scat\")\n",
    "geo.AddCircle ( (0, 0), r=1.3, leftdomain=1, rightdomain=2)\n",
    "geo.AddCircle ( (0, 0), r=1.4, leftdomain=2, rightdomain=0)\n",
    "geo.SetMaterial(1, \"air\")\n",
    "\n",
    "\n",
    "ngmesh = geo.GenerateMesh(maxh=0.1)\n",
    "mesh = Mesh(ngmesh)\n",
    "\n",
    "mesh.SetPML(pml.Radial(origin=(0,0), rad=1.4, alpha=0.1j), definedon=2)\n",
    "\n",
    "mu0 = 4*pi*1e-7\n",
    "eps0 = 8.854e-12\n",
    "\n",
    "mu = CoefficientFunction(mu0)\n",
    "\n",
    "freq=1000000000 #1000 MHz\n",
    "w=2*pi*freq\n",
    "k0=w*sqrt(mu0*eps0)\n",
    "print(\"k0=\",k0)\n",
    "\n",
    "\n",
    "fes = HCurl(mesh, complex=True, order=5, dirichlet=\"scat\")\n",
    "u = fes.TrialFunction()\n",
    "v = fes.TestFunction()\n",
    "\n",
    "uin=CoefficientFunction( (0, exp(1J*k0*x)) )\n",
    "uscat = GridFunction (fes)\n",
    "uscat.Set (uin, definedon=mesh.Materials(\"air\"))\n",
    "\n",
    "a = BilinearForm(fes, symmetric=True)\n",
    "a += SymbolicBFI(curl(u)*curl(v) - k0*k0*u*v)\n",
    "a += SymbolicBFI(-1J * k0 * u.Trace() * v.Trace(), BND)\n",
    "\n",
    "f = LinearForm (fes)\n",
    "\n",
    "a.Assemble()\n",
    "f.Assemble()\n",
    "\n",
    "res = uscat.vec.CreateVector()\n",
    "res.data = f.vec - a.mat * uscat.vec\n",
    "uscat.vec.data += a.mat.Inverse(freedofs=fes.FreeDofs(), inverse=\"sparsecholesky\") * res\n",
    "\n",
    "\n",
    "Draw (uin.real, mesh, \"uin\")\n",
    "Draw (uscat.real, mesh, \"uscat\")\n",
    "Draw (uin-uscat, mesh, \"utot\")\n",
    "\"\"\""
   ]
  },
  {
   "cell_type": "code",
   "execution_count": null,
   "id": "e475a854-e913-45c0-9235-7718b3f1e388",
   "metadata": {
    "editable": true,
    "slideshow": {
     "slide_type": ""
    },
    "tags": []
   },
   "outputs": [],
   "source": []
  }
 ],
 "metadata": {
  "kernelspec": {
   "display_name": "Python 3 (ipykernel)",
   "language": "python",
   "name": "python3"
  },
  "language_info": {
   "codemirror_mode": {
    "name": "ipython",
    "version": 3
   },
   "file_extension": ".py",
   "mimetype": "text/x-python",
   "name": "python",
   "nbconvert_exporter": "python",
   "pygments_lexer": "ipython3",
   "version": "3.10.10"
  },
  "varInspector": {
   "cols": {
    "lenName": 16,
    "lenType": 16,
    "lenVar": 40
   },
   "kernels_config": {
    "python": {
     "delete_cmd_postfix": "",
     "delete_cmd_prefix": "del ",
     "library": "var_list.py",
     "varRefreshCmd": "print(var_dic_list())"
    },
    "r": {
     "delete_cmd_postfix": ") ",
     "delete_cmd_prefix": "rm(",
     "library": "var_list.r",
     "varRefreshCmd": "cat(var_dic_list()) "
    }
   },
   "types_to_exclude": [
    "module",
    "function",
    "builtin_function_or_method",
    "instance",
    "_Feature"
   ],
   "window_display": false
  }
 },
 "nbformat": 4,
 "nbformat_minor": 5
}
