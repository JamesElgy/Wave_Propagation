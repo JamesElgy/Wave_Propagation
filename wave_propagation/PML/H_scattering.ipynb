{
 "cells": [
  {
   "cell_type": "code",
   "execution_count": 1,
   "id": "6701c2f2",
   "metadata": {},
   "outputs": [
    {
     "name": "stdout",
     "output_type": "stream",
     "text": [
      "importing NGSolve-6.2.2301\n"
     ]
    }
   ],
   "source": [
    "from ngsolve import *\n",
    "from ngsolve.webgui import Draw\n",
    "from netgen.occ import *\n",
    "from netgen.webgui import Draw as Drawgeo\n",
    "import matplotlib.pyplot as plt\n",
    "import numpy as np\n"
   ]
  },
  {
   "cell_type": "markdown",
   "id": "deff7044-2826-4fe7-bec4-14b62731dfb9",
   "metadata": {},
   "source": [
    "## Exact Solution:\n",
    "Solving for E then converting to H via Faraday's law"
   ]
  },
  {
   "cell_type": "code",
   "execution_count": 2,
   "id": "ddd068cb-f0e3-4c58-9e93-5a9210c74068",
   "metadata": {},
   "outputs": [
    {
     "name": "stdout",
     "output_type": "stream",
     "text": [
      "(3, 50, 50, 1)\n"
     ]
    }
   ],
   "source": [
    "from scipy.special import jv as besselj\n",
    "from scipy.special import yv as bessely\n",
    "from scipy.special import hankel1, hankel2\n",
    "import numpy as np\n",
    "from matplotlib import pyplot as plt\n",
    "\n",
    "omega = 2*np.pi\n",
    "N_samples = 50\n",
    "x_extent = np.linspace(-2.5, 2.5, N_samples)\n",
    "y_extent = x_extent\n",
    "z_extent = x_extent\n",
    "xx,yy,zz = np.meshgrid(x_extent, y_extent, z_extent, indexing='ij')\n",
    "\n",
    "R = np.sqrt(xx**2 + yy**2)\n",
    "theta = np.arctan2(yy, xx)\n",
    "\n",
    "# plt.figure()\n",
    "# plt.imshow(theta, extent=[-2.5,2.5, -2.5, 2.5])\n",
    "# plt.colorbar()\n",
    "\n",
    "mask = np.ones(xx.shape)\n",
    "for yind, yval in enumerate(yy):\n",
    "    for xind, xval in enumerate(xx):\n",
    "        if R[xind, yind,0] < 1:\n",
    "            mask[xind, yind, :] = np.nan\n",
    "\n",
    "# plt.figure()\n",
    "# plt.imshow(mask[:,:,10], extent=[-2.5,2.5,-2.5,2.5])\n",
    "\n",
    "\n",
    "amp = np.zeros(xx.shape)\n",
    "\n",
    "TE = False\n",
    "if TE is True:\n",
    "# TE\n",
    "    for n in range(30):\n",
    "        dj=(-besselj(n-1,omega)+besselj(n+1,omega))/2\n",
    "        dy=(-bessely(n-1,omega)+bessely(n+1,omega))/2\n",
    "        dh=dj-1j*dy;\n",
    "\n",
    "        z=omega*R;\n",
    "        bj=besselj(n,z);\n",
    "        by=bessely(n,z);\n",
    "        h=bj-1j*by;\n",
    "        if n==0:\n",
    "            amp=amp-(dj/dh)*h*np.cos(n*theta)*(1j**(-n)) * mask\n",
    "        else:\n",
    "            amp=amp-2*(dj/dh)*h*np.cos(theta*n)*(1j**(-n)) * mask\n",
    "            \n",
    "else:\n",
    "    for n in range(30):\n",
    "        if n == 0:\n",
    "            epsilon_n = 1\n",
    "        else:\n",
    "            epsilon_n = 2\n",
    "        \n",
    "        # for cylinder radius r=1\n",
    "        \n",
    "        jv_over_h2 = besselj(n, omega*1)/hankel1(n, omega*1)\n",
    "        amp = amp -(1j)**n * epsilon_n * jv_over_h2 * hankel1(n, omega * R) * np.cos(theta*n) * mask\n",
    "        \n",
    "        #zz = np.conj(zz) # Don't know why this needs a conjugate. Probably something to do with the direction of the wave Balanis assumed.\n",
    "\n",
    "E = np.asarray([np.zeros(amp.shape), np.zeros(amp.shape), amp])\n",
    "E_x = E[0,:,:, :]\n",
    "E_y = E[1,:,:,:]\n",
    "E_z = E[2,:,:,:]\n",
    "\n",
    "dist = 5/N_samples\n",
    "curlE = np.asarray([np.gradient(E_z,dist, axis=1) , -np.gradient(E_z, dist, axis=0) , np.zeros(zz.shape)])\n",
    "#curlE = np.asarray([np.gradient(E_z, axis=1) - np.gradient(E_y, axis=2), np.gradient(E_z, axis=0) - np.gradient(E_x, axis=2), np.gradient(E_y, axis=0) - np.gradient(E_x, axis=1)])\n",
    "H = (-1 / (1j*omega)) * curlE\n",
    "\n",
    "print(curlE.shape)\n",
    "\n",
    "\n",
    "\n",
    "mask = np.ones(mask.shape)\n",
    "for xind in range(mask.shape[0]):\n",
    "    for yind in range(mask.shape[1]):\n",
    "        for zind in range(mask.shape[2]):\n",
    "            if np.isnan(curlE[0, xind,yind,zind]):\n",
    "                mask[xind, yind, zind] = np.nan\n",
    "            elif np.isnan(curlE[1, xind,yind, zind]):\n",
    "                mask[xind, yind, zind] = np.nan\n",
    "            elif np.isnan(curlE[2, xind,yind, zind]):\n",
    "                mask[xind, yind, zind] = np.nan\n",
    "\n",
    "# plt.figure()\n",
    "# plt.imshow(E_z[:,:,10], extent=[-2.5,2.5, -2.5, 2.5])\n",
    "\n",
    "Exact = np.asarray([H[0,:,:], H[1,:,:], H[2,:,:]]) * mask\n",
    "\n",
    "\n",
    "# plt.figure()\n",
    "# plt.title('H x Field real')\n",
    "# plt.imshow(H[0,:,:,10].real, cmap='jet', extent=[-2.5,2.5, -2.5, 2.5])\n",
    "# plt.colorbar()\n",
    "\n",
    "# plt.figure()\n",
    "# plt.title('H x Field imag')\n",
    "# plt.imshow(H[0,:,:,10].imag, cmap='jet', extent=[-2.5,2.5, -2.5, 2.5])\n",
    "# plt.colorbar()\n",
    "\n",
    "# plt.figure()\n",
    "# plt.title('H y Field real')\n",
    "# plt.imshow(H[1,:,:,10].real, cmap='jet', extent=[-2.5,2.5, -2.5, 2.5])\n",
    "# plt.colorbar()\n",
    "\n",
    "# plt.figure()\n",
    "# plt.title('H y Field imag')\n",
    "# plt.imshow(H[1,:,:,10].imag, cmap='jet', extent=[-2.5,2.5, -2.5, 2.5])\n",
    "# plt.colorbar()\n",
    "\n",
    "\n",
    "\n",
    "# plt.figure()\n",
    "# plt.title('H Field Quiver Real')\n",
    "# plt.quiver(xx[0::4, 0::4], yy[0::4,0::4], H[0,0::4,0::4].real, H[1,0::4,0::4].real, np.sqrt(H[0,0::4,0::4].real**2 + H[1,0::4,0::4].imag**2))\n",
    "# ax = plt.gca()\n",
    "# #get x and y limits\n",
    "# x_left, x_right = ax.get_xlim()\n",
    "# y_low, y_high = ax.get_ylim()\n",
    "# #set aspect ratio\n",
    "# ax.set_aspect(abs((x_right-x_left)/(y_low-y_high)))\n",
    "# plt.colorbar()\n",
    "\n",
    "# plt.figure()\n",
    "# plt.title('H Field Quiver imag')\n",
    "# plt.quiver(xx[0::4, 0::4], yy[0::4,0::4], H[0,0::4,0::4].imag, H[1,0::4,0::4].imag, np.sqrt(H[0,0::4,0::4].imag**2 + H[1,0::4,0::4].imag**2))\n",
    "# ax = plt.gca()\n",
    "# #get x and y limits\n",
    "# x_left, x_right = ax.get_xlim()\n",
    "# y_low, y_high = ax.get_ylim()\n",
    "# #set aspect ratio\n",
    "# ax.set_aspect(abs((x_right-x_left)/(y_low-y_high)))\n",
    "# plt.colorbar()\n"
   ]
  },
  {
   "cell_type": "markdown",
   "id": "ff39e273-1383-4363-a0b2-03818047da81",
   "metadata": {},
   "source": [
    "## Generating Mesh"
   ]
  },
  {
   "cell_type": "code",
   "execution_count": 3,
   "id": "2481fb56",
   "metadata": {},
   "outputs": [
    {
     "data": {
      "application/vnd.jupyter.widget-view+json": {
       "model_id": "3316678c22854133a5fe6252e224cbb6",
       "version_major": 2,
       "version_minor": 0
      },
      "text/plain": [
       "WebGuiWidget(layout=Layout(height='50vh', width='100%'), value={'gui_settings': {}, 'ngsolve_version': '6.2.23…"
      ]
     },
     "metadata": {},
     "output_type": "display_data"
    },
    {
     "name": "stdout",
     "output_type": "stream",
     "text": [
      "('inner', 'inner', 'inner', 'inner', 'inner', 'inner', 'scabnd', 'default', 'default', 'default', 'default', 'upperlowerbnd', 'upperlowerbnd')\n"
     ]
    }
   ],
   "source": [
    "def generate_mesh(h, inner_rect_size, PML_size):\n",
    "    \n",
    "    inner_rect=WorkPlane().RectangleC(inner_rect_size,inner_rect_size).Face().Extrude(5).Move((0,0,-2.5))\n",
    "    scatterer = WorkPlane().Circle(0,0,1).Face().Extrude(5).Move((0,0,-2.5))\n",
    "\n",
    "    inner_rect.edges.name = 'innerbnd'\n",
    "    scatterer.edges.name = 'scabnd'\n",
    "\n",
    "    inner = inner_rect - scatterer\n",
    "\n",
    "    #Drawgeo(inner)\n",
    "\n",
    "    wp2=WorkPlane().RectangleC(inner_rect_size+PML_size,inner_rect_size+PML_size).RectangleC(inner_rect_size, inner_rect_size).Reverse()\n",
    "    outer = wp2.Face().Extrude(5).Move((0,0,-2.5))\n",
    "\n",
    "    outer.edges.name = 'outerbnd'\n",
    "    #inner.edges.name = 'innerbnd'\n",
    "    inner.faces.name ='inner'\n",
    "    outer.faces.Max(Z).name = 'upperlowerbnd'\n",
    "    outer.faces.Min(Z).name = 'upperlowerbnd'\n",
    "\n",
    "    scatterer.faces.name = 'scabnd'\n",
    "\n",
    "    #Drawgeo(Glue([outer,inner]))\n",
    "\n",
    "    geo = OCCGeometry(Glue([inner, outer]), dim=3)\n",
    "    mesh = Mesh(geo.GenerateMesh (maxh=h))\n",
    "    mesh.Curve(5)\n",
    "    return mesh\n",
    "\n",
    "inner_rect_size = 5\n",
    "PML_size = 5\n",
    "h = 0.75\n",
    "mesh = generate_mesh(h, inner_rect_size, PML_size)\n",
    "Draw(mesh)\n",
    "\n",
    "print(mesh.GetBoundaries())"
   ]
  },
  {
   "cell_type": "code",
   "execution_count": 4,
   "id": "7fb21c52",
   "metadata": {},
   "outputs": [],
   "source": [
    "K = CF((omega, 0))\n",
    "# phasor = exp(1j * ((K[0] * x) + (K[1] * y)))\n",
    "# hx = 1 * phasor\n",
    "# hy = 1 * phasor\n",
    "# h =  CF((hx, hy, 0))\n",
    "# #Draw(h, mesh)\n",
    "\n",
    "\n",
    "phasor = exp(1j * ((K[0] * x) + (K[1] * y)))\n",
    "ez = 1 * phasor\n",
    "\n",
    "E = CF((0, 0, ez))\n",
    "\n",
    "omega = sqrt(K[0]**2 + K[1]**2)\n",
    "h = CF((E[2].Diff(y) - E[1].Diff(z), (E[2].Diff(x) - E[0].Diff(z)), 0)) * (-1/(1j*omega))\n",
    "#h = CF((0, E[2].Diff(x), 0))\n",
    "#Draw(h[0], mesh)\n",
    "#Draw(h[1], mesh)"
   ]
  },
  {
   "cell_type": "code",
   "execution_count": 5,
   "id": "401799f0-f931-490e-acbc-6a5e4f680c04",
   "metadata": {},
   "outputs": [],
   "source": [
    "# Neumann BC:\n",
    "curlh = CF((0, 0, (h[1].Diff(x) - h[0].Diff(y))))\n",
    "# normal = specialcf.normal(dim=3)\n",
    "# n_cross_curlh = Cross(normal, -curlh)\n",
    "# #n_cross_curlh_2d = CF((n_cross_curlh[0], n_cross_curlh[1]))\n",
    "# n_cross_curlh2 = Cross(normal, n_cross_curlh)\n",
    "# n_cross_curlh2_1d = CF((n_cross_curlh2[2], 0))\n",
    "#Draw(normal, mesh)\n",
    "\n",
    "#func_domain2 = CoefficientFunction ([-specialcf.normal(3) if mat== \"inner\" else None for mat in mesh.GetMaterials()])\n",
    "#mesh.GetBoundaries()\n",
    "#Draw(func_domain2, mesh)\n",
    "#Draw(curlh[2], mesh)\n",
    "ang = atan2(y,x)\n",
    "#Draw(ang, mesh)\n",
    "normal = CF((cos(ang), sin(ang), 0))\n",
    "#Draw(normal[0], mesh)\n",
    "#Draw(normal[1], mesh)\n",
    "n_cross_curlh = Cross(normal, curlh)\n",
    "n_cross_curlh_2d = CF((n_cross_curlh[0], n_cross_curlh[1]))\n",
    "#Draw(n_cross_curlh2[0], mesh)\n",
    "#Draw(n_cross_curlh2[1], mesh)\n",
    "#Draw(n_cross_curlh2[2], mesh)\n"
   ]
  },
  {
   "cell_type": "markdown",
   "id": "1f7c653c-6e1f-4729-b2c0-381071951999",
   "metadata": {},
   "source": [
    "## With PML"
   ]
  },
  {
   "cell_type": "code",
   "execution_count": 6,
   "id": "a1434643-be64-4d9c-9799-ce121ba76e26",
   "metadata": {},
   "outputs": [],
   "source": [
    "def absval(x):\n",
    "    return sqrt(x**2)\n",
    "\n",
    "d = inner_rect_size\n",
    "z_x = IfPos(absval(x) - d/2, x + (1j * (( absval(x) - d)/0.5)**1) * x, x) # returns z_j if |x|>2.5 else returns x\n",
    "z_y = IfPos(absval(y) -d/2, y + (1j * (( absval(y) - d)/0.5)**1) * y, y) # returns z_j if |y|>2.5 else returns y\n",
    "z_z = z\n",
    "#Draw(z_x.imag, mesh)\n",
    "#Draw(z_y.imag, mesh)"
   ]
  },
  {
   "cell_type": "code",
   "execution_count": 7,
   "id": "c69e0362-ad07-408d-887e-f3258dc26f70",
   "metadata": {
    "editable": true,
    "slideshow": {
     "slide_type": ""
    },
    "tags": []
   },
   "outputs": [
    {
     "data": {
      "application/vnd.jupyter.widget-view+json": {
       "model_id": "df04411ae7b84ec9a99bfb59cc45efcb",
       "version_major": 2,
       "version_minor": 0
      },
      "text/plain": [
       "WebGuiWidget(layout=Layout(height='50vh', width='100%'), value={'gui_settings': {}, 'ngsolve_version': '6.2.23…"
      ]
     },
     "metadata": {},
     "output_type": "display_data"
    },
    {
     "data": {
      "text/plain": [
       "BaseWebGuiScene"
      ]
     },
     "execution_count": 7,
     "metadata": {},
     "output_type": "execute_result"
    }
   ],
   "source": [
    "dzx = z_x.Diff(x)\n",
    "dzy = z_y.Diff(y)\n",
    "dzz = z_z.Diff(z)\n",
    "\n",
    "#Draw(dzx.real, mesh)\n",
    "#Draw(dzy.real, mesh)\n",
    "\n",
    "#Draw(dzx.imag, mesh)\n",
    "#Draw(dzy.imag, mesh)\n",
    "\n",
    "dz_tot = dzx * dzy\n",
    "Draw(dz_tot.imag,mesh)\n",
    "\n"
   ]
  },
  {
   "cell_type": "code",
   "execution_count": 8,
   "id": "f3aee575-6837-4d50-a295-ab209250f1ad",
   "metadata": {},
   "outputs": [
    {
     "data": {
      "application/vnd.jupyter.widget-view+json": {
       "model_id": "7213958b57654434a86efb48e9d4a02f",
       "version_major": 2,
       "version_minor": 0
      },
      "text/plain": [
       "WebGuiWidget(layout=Layout(height='50vh', width='100%'), value={'gui_settings': {}, 'ngsolve_version': '6.2.23…"
      ]
     },
     "metadata": {},
     "output_type": "display_data"
    },
    {
     "data": {
      "application/vnd.jupyter.widget-view+json": {
       "model_id": "13129f79b7d7421c91e5f18852389584",
       "version_major": 2,
       "version_minor": 0
      },
      "text/plain": [
       "WebGuiWidget(layout=Layout(height='50vh', width='100%'), value={'gui_settings': {}, 'ngsolve_version': '6.2.23…"
      ]
     },
     "metadata": {},
     "output_type": "display_data"
    },
    {
     "data": {
      "text/plain": [
       "BaseWebGuiScene"
      ]
     },
     "execution_count": 8,
     "metadata": {},
     "output_type": "execute_result"
    }
   ],
   "source": [
    "def With_PML(mesh, p):\n",
    "\n",
    "    fes = HCurl(mesh, order=p, complex=True)\n",
    "    u = fes.TrialFunction()\n",
    "    v = fes.TestFunction()\n",
    "    \n",
    "    omega = sqrt(K[0]**2 + K[1]**2)\n",
    "    \n",
    "    f = dzy / dzx\n",
    "    Lambda = CF((f,0,0, 0,1/f,0, 0,0,dzy*dzx), dims=(3,3))\n",
    "    Lambda_inv = CF((1/f,0,0, 0,f,0, 0,0,(1/(dzy*dzx))), dims=(3,3))\n",
    "    #Lambda =1\n",
    "    scat = GridFunction(fes)\n",
    "    #scat.Set(CF((-h[0],-h[1])), definedon='scabnd')\n",
    "    #scat.Set(CF((0,0)), BND)\n",
    "     \n",
    "    \n",
    "    a = BilinearForm(fes, symmetric=True)\n",
    "    a += ((Lambda_inv) *curl(u))*curl(v)*dx - omega**2*(Lambda *u) *v *dx\n",
    "    a.Assemble()\n",
    "    \n",
    "    b = LinearForm(fes)\n",
    "    b += n_cross_curlh * v.Trace() * ds('scabnd')\n",
    "    #b += -n_cross_curlh * v.Trace() * ds('upperlowerbnd')\n",
    "    b.Assemble()\n",
    "    \n",
    "    \n",
    "    r = b.vec.CreateVector()\n",
    "    r = b.vec - a.mat * scat.vec\n",
    "    scat.vec.data += a.mat.Inverse(freedofs=fes.FreeDofs()) * r\n",
    "    return scat, fes.ndof\n",
    "\n",
    "\n",
    "scat, _ = With_PML(mesh, 3)\n",
    "\n",
    "Draw(scat[0].real, mesh)\n",
    "# Draw(scat[0].imag, mesh)\n",
    "\n",
    "Draw(scat[1].real, mesh)\n",
    "# Draw(scat[1].imag, mesh)\n"
   ]
  },
  {
   "cell_type": "markdown",
   "id": "7ca6bc93-5a10-411b-84d4-bda323233bc8",
   "metadata": {},
   "source": [
    "## Comparing with Exact Solution"
   ]
  },
  {
   "cell_type": "code",
   "execution_count": 9,
   "id": "115fa03e",
   "metadata": {},
   "outputs": [
    {
     "ename": "IndexError",
     "evalue": "index 10 is out of bounds for axis 2 with size 1",
     "output_type": "error",
     "traceback": [
      "\u001b[0;31m---------------------------------------------------------------------------\u001b[0m",
      "\u001b[0;31mIndexError\u001b[0m                                Traceback (most recent call last)",
      "Cell \u001b[0;32mIn [9], line 22\u001b[0m\n\u001b[1;32m     19\u001b[0m scat_numpy_x, scat_numpy_y \u001b[38;5;241m=\u001b[39m compute_on_meshgrid(xx, yy, zz, scat, mask)\n\u001b[1;32m     21\u001b[0m plt\u001b[38;5;241m.\u001b[39mfigure()\n\u001b[0;32m---> 22\u001b[0m plt\u001b[38;5;241m.\u001b[39mimshow(\u001b[43mscat_numpy_x\u001b[49m\u001b[43m[\u001b[49m\u001b[43m:\u001b[49m\u001b[43m,\u001b[49m\u001b[43m:\u001b[49m\u001b[43m,\u001b[49m\u001b[38;5;241;43m10\u001b[39;49m\u001b[43m]\u001b[49m\u001b[38;5;241m.\u001b[39mreal, cmap\u001b[38;5;241m=\u001b[39m\u001b[38;5;124m'\u001b[39m\u001b[38;5;124mjet\u001b[39m\u001b[38;5;124m'\u001b[39m)\n\u001b[1;32m     23\u001b[0m plt\u001b[38;5;241m.\u001b[39mcolorbar()\n\u001b[1;32m     24\u001b[0m plt\u001b[38;5;241m.\u001b[39mtitle(\u001b[38;5;124m'\u001b[39m\u001b[38;5;124mFEM Real X\u001b[39m\u001b[38;5;124m'\u001b[39m)\n",
      "\u001b[0;31mIndexError\u001b[0m: index 10 is out of bounds for axis 2 with size 1"
     ]
    },
    {
     "data": {
      "text/plain": [
       "<Figure size 640x480 with 0 Axes>"
      ]
     },
     "metadata": {},
     "output_type": "display_data"
    }
   ],
   "source": [
    "\n",
    "from ngsolve import *\n",
    "\n",
    "\n",
    "def compute_on_meshgrid(xx, yy, zz, scat, mask):\n",
    "    scat_numpy_x = np.zeros(xx.ravel().shape, dtype=complex)\n",
    "    scat_numpy_y = np.zeros(xx.ravel().shape, dtype=complex)\n",
    "    scat_numpy_z = np.zeros(xx.ravel().shape, dtype=complex)\n",
    "\n",
    "    for indx, xy in enumerate(zip(xx.ravel(), yy.ravel(), zz.ravel())):\n",
    "        R = np.sqrt(xy[0]**2 + xy[1]**2)\n",
    "        if R >= 1:\n",
    "            scat_numpy_x[indx] = scat(mesh(xy[0], xy[1], xy[2]))[0]\n",
    "            scat_numpy_y[indx] = scat(mesh(xy[0], xy[1], xy[2]))[1]\n",
    "\n",
    "    scat_numpy_x = scat_numpy_x.reshape(xx.shape) * mask\n",
    "    scat_numpy_y = scat_numpy_y.reshape(xx.shape) * mask\n",
    "    return scat_numpy_x, scat_numpy_y\n",
    "\n",
    "scat_numpy_x, scat_numpy_y = compute_on_meshgrid(xx, yy, zz, scat, mask)\n",
    "\n",
    "plt.figure()\n",
    "plt.imshow(scat_numpy_x[:,:,10].real, cmap='jet')\n",
    "plt.colorbar()\n",
    "plt.title('FEM Real X')\n",
    "\"\"\"\n",
    "plt.figure()\n",
    "plt.imshow(scat_numpy_x[:,:,10].imag, cmap='jet')\n",
    "plt.colorbar()\n",
    "plt.title('FEM Imag X')\n",
    "\n",
    "plt.figure()\n",
    "plt.imshow(scat_numpy_y[:,:,10].real, cmap='jet')\n",
    "plt.colorbar()\n",
    "plt.title('FEM Real Y')\n",
    "\n",
    "plt.figure()\n",
    "plt.imshow(scat_numpy_y[:,:,10].imag, cmap='jet')\n",
    "plt.colorbar()\n",
    "plt.title('FEM Imag Y')\n",
    "\"\"\"\n",
    "\n",
    "plt.figure()\n",
    "plt.imshow(scat_numpy_x[:,:,0].real, cmap='jet')\n",
    "plt.colorbar()\n",
    "plt.title('FEM Real X 1')\n",
    "\n",
    "plt.figure()\n",
    "plt.imshow(scat_numpy_x[:,:,9].real, cmap='jet')\n",
    "plt.colorbar()\n",
    "plt.title('FEM Real X 10')\n",
    "\n",
    "plt.figure()\n",
    "plt.imshow(scat_numpy_x[:,:,14].real, cmap='jet')\n",
    "plt.colorbar()\n",
    "plt.title('FEM Real X 15')\n",
    "\n",
    "plt.figure()\n",
    "plt.imshow(scat_numpy_x[:,:,49].real, cmap='jet')\n",
    "plt.colorbar()\n",
    "plt.title('FEM Real X 50')"
   ]
  },
  {
   "cell_type": "code",
   "execution_count": null,
   "id": "8a94e2ea-dfda-4926-a4f6-fdb53ef3ff86",
   "metadata": {},
   "outputs": [],
   "source": [
    "def compute_err(exact, approx):\n",
    "    return np.linalg.norm((exact - approx)) / np.linalg.norm(exact)\n",
    "\n",
    "Exact = np.asarray([Exact[0,:,:,:], Exact[1,:,:,:]])\n",
    "for h in [0.5, 0.25, 0.125, 0.065]:\n",
    "    error = []\n",
    "    ndof = []\n",
    "    mesh = generate_mesh(h, inner_rect_size, PML_size)\n",
    "    for p in [0,1,2,3,4,5,6]:\n",
    "        print(f'Solving for p={p}')\n",
    "        scat_pml, nd_pml =  With_PML(mesh, p)\n",
    "        scat_pml_numpy_x, scat_pml_numpy_y = compute_on_meshgrid(xx, yy, zz, scat_pml, mask)\n",
    "        scat_pml_numpy = np.asarray([scat_pml_numpy_x, scat_pml_numpy_y])\n",
    "        scat_pml_numpy_no_nans = scat_pml_numpy[~np.isnan(scat_pml_numpy)]\n",
    "        exact_no_nans = Exact[~np.isnan(Exact)]\n",
    "    \n",
    "        print(Exact.shape)\n",
    "        print(Exact[~np.isnan(Exact)].shape)\n",
    "        print(scat_pml_numpy.shape)\n",
    "        print(scat_pml_numpy[~np.isnan(scat_pml_numpy)].shape)\n",
    "        \n",
    "        err = compute_err((np.asarray(exact_no_nans)), np.asarray(scat_pml_numpy_no_nans))\n",
    "        ndof += [nd_pml]\n",
    "        error += [err]\n",
    "    \n",
    "    plt.figure(1)\n",
    "    plt.loglog(ndof, error, label=f'h={h}')\n",
    "    plt.ylabel('Relative Error')\n",
    "    plt.xlabel('NDOF')\n",
    "    plt.legend()\n",
    "    print('')\n"
   ]
  },
  {
   "cell_type": "markdown",
   "id": "e717586f-8bc0-48b9-ac61-cb20caccd627",
   "metadata": {},
   "source": [
    "Note that since we are computing the exact solution for $\\boldsymbol{H}$ via taking the curl of the exact $\\boldsymbol{E}$ field where gradients are approximated using finite differences, the exact $\\boldsymbol{H}$ field is really an approximate solution dependent upon the phase and frequency of the electric field and the number of discrete samples.\n",
    "\n",
    "Increasing <i>N_samples</i> improves the accuracy of $\\boldsymbol{H}$ and by extension the error reported above."
   ]
  },
  {
   "cell_type": "code",
   "execution_count": null,
   "id": "d27484e5-1743-4c64-a2ce-90a68c001395",
   "metadata": {},
   "outputs": [],
   "source": []
  }
 ],
 "metadata": {
  "kernelspec": {
   "display_name": "Python 3 (ipykernel)",
   "language": "python",
   "name": "python3"
  },
  "language_info": {
   "codemirror_mode": {
    "name": "ipython",
    "version": 3
   },
   "file_extension": ".py",
   "mimetype": "text/x-python",
   "name": "python",
   "nbconvert_exporter": "python",
   "pygments_lexer": "ipython3",
   "version": "3.10.10"
  },
  "varInspector": {
   "cols": {
    "lenName": 16,
    "lenType": 16,
    "lenVar": 40
   },
   "kernels_config": {
    "python": {
     "delete_cmd_postfix": "",
     "delete_cmd_prefix": "del ",
     "library": "var_list.py",
     "varRefreshCmd": "print(var_dic_list())"
    },
    "r": {
     "delete_cmd_postfix": ") ",
     "delete_cmd_prefix": "rm(",
     "library": "var_list.r",
     "varRefreshCmd": "cat(var_dic_list()) "
    }
   },
   "types_to_exclude": [
    "module",
    "function",
    "builtin_function_or_method",
    "instance",
    "_Feature"
   ],
   "window_display": false
  }
 },
 "nbformat": 4,
 "nbformat_minor": 5
}
