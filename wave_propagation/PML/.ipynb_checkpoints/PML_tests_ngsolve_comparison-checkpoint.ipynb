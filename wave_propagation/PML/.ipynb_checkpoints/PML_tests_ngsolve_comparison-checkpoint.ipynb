{
 "cells": [
  {
   "cell_type": "code",
   "execution_count": 1,
   "id": "4450f642",
   "metadata": {},
   "outputs": [
    {
     "name": "stdout",
     "output_type": "stream",
     "text": [
      "importing NGSolve-6.2.2301\n"
     ]
    }
   ],
   "source": [
    "from ngsolve import *\n",
    "from ngsolve.webgui import Draw\n",
    "from netgen.occ import *\n",
    "import matplotlib.pyplot as plt\n",
    "import numpy as np"
   ]
  },
  {
   "cell_type": "markdown",
   "id": "6ff99053",
   "metadata": {},
   "source": [
    "Consider the following. Find $u$ satisfying\n",
    "\\begin{equation}\n",
    "-\\nabla u - \\omega^2 u = f \\text{ in } \\mathbb{R}^2,\n",
    "\\end{equation}\n",
    "with $u$ satisfying the Sommerfeld radiation condition\n",
    "\\begin{equation}\n",
    "\\lim_{r\\to\\infty} r^{1/2} \\left(\\frac{\\partial u}{\\partial r} - i\\omega u\\right) = 0,\n",
    "\\end{equation}\n",
    "where $r$ is the radial coordinate from the origin."
   ]
  },
  {
   "cell_type": "code",
   "execution_count": 2,
   "id": "48025720",
   "metadata": {},
   "outputs": [],
   "source": [
    "outer = Circle((0,0), 2).Face()\n",
    "outer.edges.name = 'outerbnd'\n",
    "inner = Circle((0,0), 1).Face()\n",
    "inner.edges.name = 'innerbnd'\n",
    "inner.faces.name ='inner'\n",
    "pmlregion = outer - inner\n",
    "pmlregion.faces.name = 'pmlregion'\n",
    "geo = OCCGeometry(Glue([inner, pmlregion]), dim=2)\n",
    "\n",
    "mesh = Mesh(geo.GenerateMesh (maxh=0.1))\n",
    "mesh.Curve(3)\n",
    "\n",
    "inout_dict = {'inner': 1, 'pmlregion':0}\n",
    "inout = CoefficientFunction([inout_dict[mat] for mat in mesh.GetMaterials()])"
   ]
  },
  {
   "cell_type": "markdown",
   "id": "bd1cf7b6",
   "metadata": {},
   "source": [
    "We set $f$ to be almost 0 everywhere except a small region away from the boundary,"
   ]
  },
  {
   "cell_type": "code",
   "execution_count": 3,
   "id": "592d4fbe",
   "metadata": {},
   "outputs": [
    {
     "data": {
      "application/vnd.jupyter.widget-view+json": {
       "model_id": "ff9d2fd4e01a47e4b4d3c7508bb357b5",
       "version_major": 2,
       "version_minor": 0
      },
      "text/plain": [
       "WebGuiWidget(layout=Layout(height='50vh', width='100%'), value={'gui_settings': {}, 'ngsolve_version': '6.2.23…"
      ]
     },
     "metadata": {},
     "output_type": "display_data"
    }
   ],
   "source": [
    "f = exp(-20**2*((x-0.3)*(x-0.3)+y*y))\n",
    "Draw(f, mesh);"
   ]
  },
  {
   "cell_type": "markdown",
   "id": "4a9b55de",
   "metadata": {},
   "source": [
    "Setting PML in pmlregion"
   ]
  },
  {
   "cell_type": "code",
   "execution_count": 4,
   "id": "2f5d2ec3",
   "metadata": {},
   "outputs": [],
   "source": [
    "mesh.SetPML(pml.Radial(rad=1,alpha=1j,origin=(0,0)), \"pmlregion\")"
   ]
  },
  {
   "cell_type": "markdown",
   "id": "4dde55f4",
   "metadata": {},
   "source": [
    "Solving H1 with $\\omega=10$ using a direct inverse"
   ]
  },
  {
   "cell_type": "code",
   "execution_count": 5,
   "id": "57d5a143",
   "metadata": {},
   "outputs": [
    {
     "data": {
      "application/vnd.jupyter.widget-view+json": {
       "model_id": "d687c9f4733c448eb99311a30c434f0f",
       "version_major": 2,
       "version_minor": 0
      },
      "text/plain": [
       "WebGuiWidget(layout=Layout(height='50vh', width='100%'), value={'gui_settings': {}, 'ngsolve_version': '6.2.23…"
      ]
     },
     "metadata": {},
     "output_type": "display_data"
    }
   ],
   "source": [
    "fes = H1(mesh, order=4, complex=True)\n",
    "u = fes.TrialFunction()\n",
    "v = fes.TestFunction()\n",
    "\n",
    "omega = 10\n",
    "\n",
    "a = BilinearForm(fes)\n",
    "a += grad(u)*grad(v)*dx - omega**2*u*v*dx\n",
    "a += -1j*omega*u*v*ds(\"outerbnd\")\n",
    "a.Assemble()\n",
    "\n",
    "b = LinearForm(f * v * dx).Assemble()\n",
    "\n",
    "gfu = GridFunction(fes)\n",
    "gfu.vec.data = a.mat.Inverse() * b.vec\n",
    "Draw(gfu);\n",
    "\n"
   ]
  },
  {
   "cell_type": "code",
   "execution_count": 6,
   "id": "815534f5",
   "metadata": {},
   "outputs": [
    {
     "data": {
      "text/plain": [
       "(-3.4890070419615374e-06-1.3102267046576246e-05j)"
      ]
     },
     "execution_count": 6,
     "metadata": {},
     "output_type": "execute_result"
    }
   ],
   "source": [
    "Integrate(inout * gfu, mesh)"
   ]
  },
  {
   "cell_type": "markdown",
   "id": "c2ae9efc",
   "metadata": {},
   "source": [
    "Trying again with my own implementation.\n",
    "\n",
    "We want the field to decay exponentially to (near) 0 inside the PML.\n",
    "\n",
    "\\begin{equation}\n",
    "A = \\begin{cases}\n",
    "1 & \\text{ for } r \\le r_{inner} \\\\\n",
    "e^{\\alpha r} & \\text{ for } r > r_{inner} \\\\\n",
    "0 & \\text{ for } r = r_{outer}\n",
    "\\end{cases}\n",
    "\\end{equation}"
   ]
  },
  {
   "cell_type": "code",
   "execution_count": 7,
   "id": "fd055a37",
   "metadata": {
    "scrolled": false
   },
   "outputs": [],
   "source": [
    "outer = Circle((0,0), 2).Face()\n",
    "outer.edges.name = 'outerbnd'\n",
    "inner = Circle((0,0), 1).Face()\n",
    "inner.edges.name = 'innerbnd'\n",
    "inner.faces.name ='inner'\n",
    "pmlregion = outer - inner\n",
    "pmlregion.faces.name = 'pmlregion'\n",
    "geo = OCCGeometry(Glue([inner, pmlregion]), dim=2)\n",
    "\n",
    "mesh = Mesh(geo.GenerateMesh (maxh=0.1))\n",
    "mesh.Curve(3)\n",
    "\n",
    "\n",
    "fes = H1(mesh, order=5, complex=True, dirichlet='outerbnd')\n",
    "u = fes.TrialFunction()\n",
    "v = fes.TestFunction()\n",
    "omega = 10\n",
    "\n",
    "r = (x**2 + y**2)**(0.5)\n",
    "r_inner = 1\n",
    "r_outer = 2\n",
    "alpha  = 1\n",
    "sigma = 6 * ((r - r_inner) / (r_outer - r_inner)) ** 2\n",
    "gamma = 1 + (1j *alpha * sigma)\n",
    "\n",
    "amp_dict = {'inner': 1, 'pmlregion': gamma}\n",
    "\n",
    "A = CoefficientFunction([amp_dict[mat] for mat in mesh.GetMaterials()])\n",
    "\n",
    "a = BilinearForm(fes)\n",
    "a += A**-1 *grad(u)*grad(v) * dx - A * omega**2*u*v * dx\n",
    "a += A * -1j*omega*u*v * ds('outerbnd')\n",
    "a.Assemble()\n",
    "\n",
    "#f = exp(-20**2*((x+gamma-0.3)*(x+gamma-0.3)+y*gamma*y*gamma))\n",
    "\n",
    "b = LinearForm(fes)\n",
    "b += f * v * dx\n",
    "b.Assemble()\n",
    "\n",
    "\n",
    "gfu = GridFunction(fes)\n",
    "gfu.Set(0, BND)\n",
    "gfu.vec.data = a.mat.Inverse() * b.vec\n"
   ]
  },
  {
   "cell_type": "markdown",
   "id": "9f944195",
   "metadata": {},
   "source": [
    "Drawing the imaginary part of the weighting, $A$. Only imaginary part exists inside the pml."
   ]
  },
  {
   "cell_type": "code",
   "execution_count": 8,
   "id": "6df25525",
   "metadata": {},
   "outputs": [
    {
     "data": {
      "application/vnd.jupyter.widget-view+json": {
       "model_id": "aae195b654644829b1468a3ef81797d5",
       "version_major": 2,
       "version_minor": 0
      },
      "text/plain": [
       "WebGuiWidget(layout=Layout(height='50vh', width='100%'), value={'gui_settings': {}, 'ngsolve_version': '6.2.23…"
      ]
     },
     "metadata": {},
     "output_type": "display_data"
    },
    {
     "data": {
      "application/vnd.jupyter.widget-view+json": {
       "model_id": "0bde8b0e9a09457fb8eabe8e3cd7af5d",
       "version_major": 2,
       "version_minor": 0
      },
      "text/plain": [
       "WebGuiWidget(layout=Layout(height='50vh', width='100%'), value={'gui_settings': {}, 'ngsolve_version': '6.2.23…"
      ]
     },
     "metadata": {},
     "output_type": "display_data"
    },
    {
     "data": {
      "text/plain": [
       "BaseWebGuiScene"
      ]
     },
     "execution_count": 8,
     "metadata": {},
     "output_type": "execute_result"
    }
   ],
   "source": [
    "Draw(A.imag, mesh, 'A')\n",
    "Draw(A.real, mesh, 'A')"
   ]
  },
  {
   "cell_type": "markdown",
   "id": "3ba5151e",
   "metadata": {},
   "source": [
    "Similarly, the solution field, $u$, decays towards the outer boundary."
   ]
  },
  {
   "cell_type": "code",
   "execution_count": 9,
   "id": "e7919738",
   "metadata": {},
   "outputs": [
    {
     "data": {
      "application/vnd.jupyter.widget-view+json": {
       "model_id": "6cbd93a47db24432b34fda52e53414f9",
       "version_major": 2,
       "version_minor": 0
      },
      "text/plain": [
       "WebGuiWidget(layout=Layout(height='50vh', width='100%'), value={'gui_settings': {}, 'ngsolve_version': '6.2.23…"
      ]
     },
     "metadata": {},
     "output_type": "display_data"
    },
    {
     "data": {
      "text/plain": [
       "BaseWebGuiScene"
      ]
     },
     "execution_count": 9,
     "metadata": {},
     "output_type": "execute_result"
    }
   ],
   "source": [
    "Draw(gfu)#, min=-0.00096, max=0.0018);\n"
   ]
  },
  {
   "cell_type": "code",
   "execution_count": 10,
   "id": "1051fb38",
   "metadata": {},
   "outputs": [
    {
     "data": {
      "text/plain": [
       "(-3.434501909207647e-06-1.2647294327914745e-05j)"
      ]
     },
     "execution_count": 10,
     "metadata": {},
     "output_type": "execute_result"
    }
   ],
   "source": [
    "Integrate(inout * gfu, mesh)"
   ]
  },
  {
   "cell_type": "code",
   "execution_count": null,
   "id": "d82ab7e6",
   "metadata": {},
   "outputs": [],
   "source": []
  },
  {
   "cell_type": "code",
   "execution_count": null,
   "id": "517c188e",
   "metadata": {},
   "outputs": [],
   "source": []
  }
 ],
 "metadata": {
  "kernelspec": {
   "display_name": "Python 3 (ipykernel)",
   "language": "python",
   "name": "python3"
  },
  "language_info": {
   "codemirror_mode": {
    "name": "ipython",
    "version": 3
   },
   "file_extension": ".py",
   "mimetype": "text/x-python",
   "name": "python",
   "nbconvert_exporter": "python",
   "pygments_lexer": "ipython3",
   "version": "3.10.12"
  },
  "varInspector": {
   "cols": {
    "lenName": 16,
    "lenType": 16,
    "lenVar": 40
   },
   "kernels_config": {
    "python": {
     "delete_cmd_postfix": "",
     "delete_cmd_prefix": "del ",
     "library": "var_list.py",
     "varRefreshCmd": "print(var_dic_list())"
    },
    "r": {
     "delete_cmd_postfix": ") ",
     "delete_cmd_prefix": "rm(",
     "library": "var_list.r",
     "varRefreshCmd": "cat(var_dic_list()) "
    }
   },
   "types_to_exclude": [
    "module",
    "function",
    "builtin_function_or_method",
    "instance",
    "_Feature"
   ],
   "window_display": false
  }
 },
 "nbformat": 4,
 "nbformat_minor": 5
}
