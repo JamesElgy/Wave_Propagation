{
 "cells": [
  {
   "cell_type": "code",
   "execution_count": 1,
   "id": "ecfa775a",
   "metadata": {},
   "outputs": [
    {
     "name": "stdout",
     "output_type": "stream",
     "text": [
      "importing NGSolve-6.2.2301\n"
     ]
    }
   ],
   "source": [
    "from ngsolve import *\n",
    "from ngsolve.webgui import Draw\n",
    "from netgen.occ import *\n",
    "import matplotlib.pyplot as plt"
   ]
  },
  {
   "cell_type": "markdown",
   "id": "9a2a94a5",
   "metadata": {},
   "source": [
    "Consider the following. Find $u$ satisfying\n",
    "\\begin{equation}\n",
    "-\\nabla u - \\omega^2 u = f \\text{ in } \\mathbb{R}^2,\n",
    "\\end{equation}\n",
    "with $u$ satisfying the Sommerfeld radiation condition\n",
    "\\begin{equation}\n",
    "\\lim_{r\\to\\infty} r^{1/2} \\left(\\frac{\\partial u}{\\partial r} - i\\omega u\\right) = 0,\n",
    "\\end{equation}\n",
    "where $r$ is the radial coordinate from the origin."
   ]
  },
  {
   "cell_type": "code",
   "execution_count": 2,
   "id": "d2d59e4f",
   "metadata": {},
   "outputs": [
    {
     "data": {
      "text/plain": [
       "<ngsolve.comp.Mesh at 0x7f1c642018f0>"
      ]
     },
     "execution_count": 2,
     "metadata": {},
     "output_type": "execute_result"
    }
   ],
   "source": [
    "outer = Circle((0,0), 1.4).Face()\n",
    "outer.edges.name = 'outerbnd'\n",
    "inner = Circle((0,0), 1).Face()\n",
    "inner.edges.name = 'innerbnd'\n",
    "inner.faces.name ='inner'\n",
    "pmlregion = outer - inner\n",
    "pmlregion.faces.name = 'pmlregion'\n",
    "geo = OCCGeometry(Glue([inner, pmlregion]), dim=2)\n",
    "\n",
    "mesh = Mesh(geo.GenerateMesh (maxh=0.1))\n",
    "mesh.Curve(3)\n"
   ]
  },
  {
   "cell_type": "markdown",
   "id": "79df3963",
   "metadata": {},
   "source": [
    "We set $f$ to be almost 0 everywhere except a small region away from the boundary,"
   ]
  },
  {
   "cell_type": "code",
   "execution_count": 3,
   "id": "1a5cadd2",
   "metadata": {},
   "outputs": [
    {
     "data": {
      "application/vnd.jupyter.widget-view+json": {
       "model_id": "55f8a10c13114ac49fb8794cb4aaf9e1",
       "version_major": 2,
       "version_minor": 0
      },
      "text/plain": [
       "WebGuiWidget(layout=Layout(height='50vh', width='100%'), value={'gui_settings': {}, 'ngsolve_version': '6.2.23…"
      ]
     },
     "metadata": {},
     "output_type": "display_data"
    }
   ],
   "source": [
    "f = exp(-20**2*((x-0.3)*(x-0.3)+y*y))\n",
    "Draw(f, mesh);"
   ]
  },
  {
   "cell_type": "markdown",
   "id": "9c476484",
   "metadata": {},
   "source": [
    "Setting PML in pmlregion"
   ]
  },
  {
   "cell_type": "code",
   "execution_count": 4,
   "id": "7876aaf9",
   "metadata": {},
   "outputs": [],
   "source": [
    "mesh.SetPML(pml.Radial(rad=1,alpha=1j,origin=(0,0)), \"pmlregion\")"
   ]
  },
  {
   "cell_type": "markdown",
   "id": "864f86f5",
   "metadata": {},
   "source": [
    "Solving H1 with $\\omega=10$ using a direct inverse"
   ]
  },
  {
   "cell_type": "code",
   "execution_count": 5,
   "id": "7f408620",
   "metadata": {},
   "outputs": [
    {
     "data": {
      "application/vnd.jupyter.widget-view+json": {
       "model_id": "3d1ee169fcba492799c4fc660ac218a6",
       "version_major": 2,
       "version_minor": 0
      },
      "text/plain": [
       "WebGuiWidget(layout=Layout(height='50vh', width='100%'), value={'gui_settings': {}, 'ngsolve_version': '6.2.23…"
      ]
     },
     "metadata": {},
     "output_type": "display_data"
    }
   ],
   "source": [
    "fes = H1(mesh, order=4, complex=True)\n",
    "u = fes.TrialFunction()\n",
    "v = fes.TestFunction()\n",
    "\n",
    "omega = 10\n",
    "\n",
    "a = BilinearForm(fes)\n",
    "a += grad(u)*grad(v)*dx - omega**2*u*v*dx\n",
    "a += -1j*omega*u*v*ds(\"outerbnd\")\n",
    "a.Assemble()\n",
    "\n",
    "b = LinearForm(f * v * dx).Assemble()\n",
    "\n",
    "gfu = GridFunction(fes)\n",
    "gfu.vec.data = a.mat.Inverse() * b.vec\n",
    "Draw(gfu);\n",
    "\n"
   ]
  },
  {
   "cell_type": "markdown",
   "id": "717ce1b7",
   "metadata": {},
   "source": [
    "Trying again with my own implementation.\n",
    "\n",
    "We want the field to decay exponentially to (near) 0 inside the PML.\n",
    "\n",
    "\\begin{equation}\n",
    "A = \\begin{cases}\n",
    "1 & \\text{ for } r \\le r_{inner} \\\\\n",
    "e^{\\alpha r} & \\text{ for } r > r_{inner} \\\\\n",
    "0 & \\text{ for } r = r_{outer}\n",
    "\\end{cases}\n",
    "\\end{equation}"
   ]
  },
  {
   "cell_type": "code",
   "execution_count": 36,
   "id": "a52f0056",
   "metadata": {},
   "outputs": [
    {
     "name": "stdout",
     "output_type": "stream",
     "text": [
      "('inner', 'pmlregion')\n"
     ]
    },
    {
     "data": {
      "application/vnd.jupyter.widget-view+json": {
       "model_id": "739a112701b24c78ab8bc23f82c80241",
       "version_major": 2,
       "version_minor": 0
      },
      "text/plain": [
       "WebGuiWidget(layout=Layout(height='50vh', width='100%'), value={'gui_settings': {}, 'ngsolve_version': '6.2.23…"
      ]
     },
     "metadata": {},
     "output_type": "display_data"
    },
    {
     "data": {
      "application/vnd.jupyter.widget-view+json": {
       "model_id": "2d5d7dc2afdf4a55a2005c429dc5f481",
       "version_major": 2,
       "version_minor": 0
      },
      "text/plain": [
       "WebGuiWidget(layout=Layout(height='50vh', width='100%'), value={'gui_settings': {}, 'ngsolve_version': '6.2.23…"
      ]
     },
     "metadata": {},
     "output_type": "display_data"
    }
   ],
   "source": [
    "outer = Circle((0,0), 1.4).Face()\n",
    "outer.edges.name = 'outerbnd'\n",
    "inner = Circle((0,0), 1).Face()\n",
    "inner.edges.name = 'innerbnd'\n",
    "inner.faces.name ='inner'\n",
    "pmlregion = outer - inner\n",
    "pmlregion.faces.name = 'pmlregion'\n",
    "geo = OCCGeometry(Glue([inner, pmlregion]), dim=2)\n",
    "\n",
    "mesh = Mesh(geo.GenerateMesh (maxh=0.1))\n",
    "mesh.Curve(3)\n",
    "\n",
    "geo = OCCGeometry(Glue([inner, pmlregion]), dim=2)\n",
    "\n",
    "mesh = Mesh(geo.GenerateMesh (maxh=0.1))\n",
    "mesh.Curve(3)\n",
    "\n",
    "f = exp(-20**2*((x-0.3)*(x-0.3)+y*y))\n",
    "\n",
    "\n",
    "print(mesh.GetMaterials())\n",
    "\n",
    "fes = H1(mesh, order=4, complex=True)#, dirichlet='outerbnd')\n",
    "u = fes.TrialFunction()\n",
    "v = fes.TestFunction()\n",
    "omega = 10\n",
    "\n",
    "r = (x**2 + y**2)**(0.5)\n",
    "r_inner = 1\n",
    "alpha  = -10\n",
    "amp_dict = {'inner': 1, 'pmlregion': exp(alpha * (r - r_inner))}\n",
    "amp_dict2 = {'inner': 0, 'pmlregion': 1j * alpha * (r_inner - r)}\n",
    "\n",
    "A = CoefficientFunction([amp_dict[mat] for mat in mesh.GetMaterials()])\n",
    "A2 = CoefficientFunction([amp_dict2[mat] for mat in mesh.GetMaterials()])\n",
    "\n",
    "Draw(A, mesh)\n",
    "\n",
    "a = BilinearForm(fes)\n",
    "a += grad(u)*grad(v)*dx\n",
    "a += -omega**2*u*v*dx\n",
    "a += -1j*omega*u*v*ds(\"outerbnd\")\n",
    "a.Assemble()\n",
    "\n",
    "x_prime = x + A2\n",
    "y_prime = y + A2\n",
    "\n",
    "f2 = exp(-20**2*((x_prime-0.3)*(x_prime-0.3)+y_prime*y_prime))\n",
    "\n",
    "b = LinearForm(fes)\n",
    "b += A * f * v * dx\n",
    "b.Assemble()\n",
    "\n",
    "\n",
    "gfu = GridFunction(fes)\n",
    "gfu.Set(0, BND)\n",
    "gfu.vec.data = a.mat.Inverse() * b.vec\n",
    "Draw(gfu);\n"
   ]
  },
  {
   "cell_type": "code",
   "execution_count": null,
   "id": "d212b93e",
   "metadata": {},
   "outputs": [],
   "source": []
  },
  {
   "cell_type": "code",
   "execution_count": null,
   "id": "e311ea08",
   "metadata": {},
   "outputs": [],
   "source": []
  }
 ],
 "metadata": {
  "kernelspec": {
   "display_name": "Python 3 (ipykernel)",
   "language": "python",
   "name": "python3"
  },
  "language_info": {
   "codemirror_mode": {
    "name": "ipython",
    "version": 3
   },
   "file_extension": ".py",
   "mimetype": "text/x-python",
   "name": "python",
   "nbconvert_exporter": "python",
   "pygments_lexer": "ipython3",
   "version": "3.10.12"
  },
  "varInspector": {
   "cols": {
    "lenName": 16,
    "lenType": 16,
    "lenVar": 40
   },
   "kernels_config": {
    "python": {
     "delete_cmd_postfix": "",
     "delete_cmd_prefix": "del ",
     "library": "var_list.py",
     "varRefreshCmd": "print(var_dic_list())"
    },
    "r": {
     "delete_cmd_postfix": ") ",
     "delete_cmd_prefix": "rm(",
     "library": "var_list.r",
     "varRefreshCmd": "cat(var_dic_list()) "
    }
   },
   "types_to_exclude": [
    "module",
    "function",
    "builtin_function_or_method",
    "instance",
    "_Feature"
   ],
   "window_display": false
  }
 },
 "nbformat": 4,
 "nbformat_minor": 5
}
