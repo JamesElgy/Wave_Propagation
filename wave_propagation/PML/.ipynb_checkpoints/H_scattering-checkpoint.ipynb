{
 "cells": [
  {
   "cell_type": "code",
   "execution_count": 2,
   "id": "6701c2f2",
   "metadata": {},
   "outputs": [
    {
     "name": "stdout",
     "output_type": "stream",
     "text": [
      "importing NGSolve-6.2.2301\n"
     ]
    }
   ],
   "source": [
    "from ngsolve import *\n",
    "from ngsolve.webgui import Draw\n",
    "from netgen.occ import *\n",
    "from netgen.webgui import Draw as Drawgeo\n",
    "import matplotlib.pyplot as plt\n",
    "import numpy as np"
   ]
  },
  {
   "cell_type": "code",
   "execution_count": 3,
   "id": "2481fb56",
   "metadata": {},
   "outputs": [
    {
     "data": {
      "application/vnd.jupyter.widget-view+json": {
       "model_id": "56ac39b2b0f343228e05423e1816dc2d",
       "version_major": 2,
       "version_minor": 0
      },
      "text/plain": [
       "WebGuiWidget(layout=Layout(height='50vh', width='100%'), value={'gui_settings': {}, 'ngsolve_version': '6.2.23…"
      ]
     },
     "metadata": {},
     "output_type": "display_data"
    },
    {
     "data": {
      "text/plain": [
       "BaseWebGuiScene"
      ]
     },
     "execution_count": 3,
     "metadata": {},
     "output_type": "execute_result"
    }
   ],
   "source": [
    "def generate_mesh(h, inner_rect_size, PML_size):\n",
    "    \n",
    "    inner_rect=WorkPlane().RectangleC(inner_rect_size,inner_rect_size).Face()\n",
    "    scatterer = WorkPlane().Circle(0,0,1).Face()\n",
    "\n",
    "    inner_rect.edges.name = 'innerbnd'\n",
    "    scatterer.edges.name = 'scabnd'\n",
    "\n",
    "    inner = inner_rect - scatterer\n",
    "\n",
    "    #Drawgeo(inner)\n",
    "\n",
    "    wp2=WorkPlane().RectangleC(inner_rect_size+inner_rect_size,inner_rect_size+inner_rect_size).RectangleC(5,5).Reverse()\n",
    "    outer = wp2.Face()\n",
    "\n",
    "    outer.edges.name = 'outerbnd'\n",
    "    #inner.edges.name = 'innerbnd'\n",
    "    inner.faces.name ='inner'\n",
    "    outer.faces.name = 'pmlregion'\n",
    "\n",
    "    #Drawgeo(Glue([outer,inner]))\n",
    "\n",
    "    geo = OCCGeometry(Glue([inner, outer]), dim=2)\n",
    "    mesh = Mesh(geo.GenerateMesh (maxh=h))\n",
    "    mesh.Curve(5)\n",
    "    return mesh\n",
    "\n",
    "inner_rect_size = 5\n",
    "PML_size = 5\n",
    "h = 0.3\n",
    "mesh = generate_mesh(h, inner_rect_size, PML_size)\n",
    "Draw(mesh)\n"
   ]
  },
  {
   "cell_type": "code",
   "execution_count": 4,
   "id": "7fb21c52",
   "metadata": {},
   "outputs": [
    {
     "data": {
      "application/vnd.jupyter.widget-view+json": {
       "model_id": "4190723a379d40748497a5d323e5512b",
       "version_major": 2,
       "version_minor": 0
      },
      "text/plain": [
       "WebGuiWidget(layout=Layout(height='50vh', width='100%'), value={'gui_settings': {}, 'ngsolve_version': '6.2.23…"
      ]
     },
     "metadata": {},
     "output_type": "display_data"
    },
    {
     "data": {
      "text/plain": [
       "BaseWebGuiScene"
      ]
     },
     "execution_count": 4,
     "metadata": {},
     "output_type": "execute_result"
    }
   ],
   "source": [
    "K = CF((3.14159 * 2, 3.14159 * 2))\n",
    "phasor = exp(1j * ((K[1] * x) + (K[0] * y)))\n",
    "ex = 1 * phasor\n",
    "ey = 1 * phasor\n",
    "ez = CF((ex, ey))\n",
    "Draw(ez, mesh)"
   ]
  },
  {
   "cell_type": "code",
   "execution_count": 6,
   "id": "d94ed0bd",
   "metadata": {},
   "outputs": [
    {
     "ename": "NgException",
     "evalue": "Trialfunction does not support BND-forms, maybe a Trace() operator is missing, type = FN5ngfem6DiffOpINS_12DiffOpIdEdgeILi2ENS_18HCurlFiniteElementILi2EEEEEEEvE",
     "output_type": "error",
     "traceback": [
      "\u001b[0;31m---------------------------------------------------------------------------\u001b[0m",
      "\u001b[0;31mNgException\u001b[0m                               Traceback (most recent call last)",
      "Cell \u001b[0;32mIn [6], line 9\u001b[0m\n\u001b[1;32m      7\u001b[0m a \u001b[38;5;241m=\u001b[39m BilinearForm(fes, symmetric\u001b[38;5;241m=\u001b[39m\u001b[38;5;28;01mTrue\u001b[39;00m)\n\u001b[1;32m      8\u001b[0m a \u001b[38;5;241m+\u001b[39m\u001b[38;5;241m=\u001b[39m curl(u)\u001b[38;5;241m*\u001b[39mcurl(v)\u001b[38;5;241m*\u001b[39mdx \u001b[38;5;241m-\u001b[39m omega\u001b[38;5;241m*\u001b[39m\u001b[38;5;241m*\u001b[39m\u001b[38;5;241m2\u001b[39m\u001b[38;5;241m*\u001b[39mu\u001b[38;5;241m*\u001b[39mv\u001b[38;5;241m*\u001b[39mdx\n\u001b[0;32m----> 9\u001b[0m a \u001b[38;5;241m+\u001b[39m\u001b[38;5;241m=\u001b[39m \u001b[38;5;241m-\u001b[39m\u001b[38;5;241m1\u001b[39mj\u001b[38;5;241m*\u001b[39momega\u001b[38;5;241m*\u001b[39mu\u001b[38;5;241m*\u001b[39mv\u001b[38;5;241m*\u001b[39mds(\u001b[38;5;124m\"\u001b[39m\u001b[38;5;124mouterbnd\u001b[39m\u001b[38;5;124m\"\u001b[39m)\n\u001b[1;32m     10\u001b[0m a\u001b[38;5;241m.\u001b[39mAssemble()\n\u001b[1;32m     13\u001b[0m b \u001b[38;5;241m=\u001b[39m LinearForm(fes)\n",
      "\u001b[0;31mNgException\u001b[0m: Trialfunction does not support BND-forms, maybe a Trace() operator is missing, type = FN5ngfem6DiffOpINS_12DiffOpIdEdgeILi2ENS_18HCurlFiniteElementILi2EEEEEEEvE"
     ]
    }
   ],
   "source": [
    "fes = HCurl(mesh, order=4, complex=True, dirichlet='scabnd')\n",
    "u = fes.TrialFunction()\n",
    "v = fes.TestFunction()\n",
    "\n",
    "omega = sqrt(K[0]**2 + K[1]**2)\n",
    "\n",
    "a = BilinearForm(fes, symmetric=True)\n",
    "a += curl(u)*curl(v)*dx - omega**2*u*v*dx\n",
    "#a += -1j*omega*u*v*ds(\"outerbnd\")\n",
    "a.Assemble()\n",
    "\n",
    "\n",
    "b = LinearForm(fes)\n",
    "b += SymbolicLFI(0)\n",
    "b.Assemble()\n",
    "\n",
    "scat = GridFunction(fes)\n",
    "scat.Set(-ez, BND)\n",
    "\n",
    "r = b.vec - a.mat * scat.vec\n",
    "scat.vec.data += a.mat.Inverse(freedofs=fes.FreeDofs()) * r\n",
    "\n",
    "Draw(scat, mesh)\n",
    "#Draw(ez, mesh)\n",
    "#Draw(scat - ez, mesh)"
   ]
  },
  {
   "cell_type": "code",
   "execution_count": 9,
   "id": "8984ecb1",
   "metadata": {},
   "outputs": [
    {
     "data": {
      "text/plain": [
       "<ngsolve.fem.CoefficientFunction at 0x18fff6a7f10>"
      ]
     },
     "execution_count": 9,
     "metadata": {},
     "output_type": "execute_result"
    }
   ],
   "source": [
    "ez"
   ]
  },
  {
   "cell_type": "code",
   "execution_count": 10,
   "id": "85951d8c",
   "metadata": {},
   "outputs": [
    {
     "data": {
      "text/plain": [
       "1"
      ]
     },
     "execution_count": 10,
     "metadata": {},
     "output_type": "execute_result"
    }
   ],
   "source": [
    "ez.dim"
   ]
  },
  {
   "cell_type": "code",
   "execution_count": 12,
   "id": "b6f4e6de",
   "metadata": {},
   "outputs": [
    {
     "ename": "IndexError",
     "evalue": "",
     "output_type": "error",
     "traceback": [
      "\u001b[1;31m---------------------------------------------------------------------------\u001b[0m",
      "\u001b[1;31mIndexError\u001b[0m                                Traceback (most recent call last)",
      "Cell \u001b[1;32mIn[12], line 1\u001b[0m\n\u001b[1;32m----> 1\u001b[0m \u001b[43mez\u001b[49m\u001b[43m[\u001b[49m\u001b[38;5;241;43m1\u001b[39;49m\u001b[43m]\u001b[49m\n",
      "\u001b[1;31mIndexError\u001b[0m: "
     ]
    }
   ],
   "source": [
    "ez[1]"
   ]
  },
  {
   "cell_type": "code",
   "execution_count": null,
   "id": "4764cf70",
   "metadata": {},
   "outputs": [],
   "source": []
  }
 ],
 "metadata": {
  "kernelspec": {
   "display_name": "Python 3 (ipykernel)",
   "language": "python",
   "name": "python3"
  },
  "language_info": {
   "codemirror_mode": {
    "name": "ipython",
    "version": 3
   },
   "file_extension": ".py",
   "mimetype": "text/x-python",
   "name": "python",
   "nbconvert_exporter": "python",
   "pygments_lexer": "ipython3",
   "version": "3.10.12"
  },
  "varInspector": {
   "cols": {
    "lenName": 16,
    "lenType": 16,
    "lenVar": 40
   },
   "kernels_config": {
    "python": {
     "delete_cmd_postfix": "",
     "delete_cmd_prefix": "del ",
     "library": "var_list.py",
     "varRefreshCmd": "print(var_dic_list())"
    },
    "r": {
     "delete_cmd_postfix": ") ",
     "delete_cmd_prefix": "rm(",
     "library": "var_list.r",
     "varRefreshCmd": "cat(var_dic_list()) "
    }
   },
   "types_to_exclude": [
    "module",
    "function",
    "builtin_function_or_method",
    "instance",
    "_Feature"
   ],
   "window_display": false
  }
 },
 "nbformat": 4,
 "nbformat_minor": 5
}
