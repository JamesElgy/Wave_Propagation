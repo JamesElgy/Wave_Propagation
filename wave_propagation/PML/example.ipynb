{
 "cells": [
  {
   "cell_type": "markdown",
   "id": "8f0f7a1b-c263-4100-8663-95bde4e59639",
   "metadata": {},
   "source": [
    "# Comparison for Dirichlet and Neumann BCs for simple plane wave problem."
   ]
  },
  {
   "cell_type": "code",
   "execution_count": 1,
   "id": "bb8c5287-cff1-4a1c-9e4d-d8475cccd8ce",
   "metadata": {},
   "outputs": [
    {
     "name": "stdout",
     "output_type": "stream",
     "text": [
      "importing NGSolve-6.2.2301\n"
     ]
    }
   ],
   "source": [
    "from ngsolve import *\n",
    "from ngsolve.webgui import Draw\n",
    "from netgen.occ import *\n",
    "from netgen.webgui import Draw as Drawgeo\n",
    "import matplotlib.pyplot as plt\n",
    "import numpy as np\n"
   ]
  },
  {
   "cell_type": "code",
   "execution_count": 2,
   "id": "f1b42591-26b2-4059-9eae-2dfc7e399c3b",
   "metadata": {},
   "outputs": [],
   "source": [
    "rect=WorkPlane().RectangleC(5,5).Face()\n",
    "\n",
    "geo = OCCGeometry(rect)\n",
    "mesh = Mesh(geo.GenerateMesh (maxh=0.3))"
   ]
  },
  {
   "cell_type": "markdown",
   "id": "29bd39b5-5d9c-4f82-8ead-3ac29c57fd60",
   "metadata": {},
   "source": [
    "## Defining Plane Wave"
   ]
  },
  {
   "cell_type": "code",
   "execution_count": 3,
   "id": "74a4ca76-6fff-46f7-8dbb-1f324c2f400d",
   "metadata": {},
   "outputs": [
    {
     "data": {
      "application/vnd.jupyter.widget-view+json": {
       "model_id": "ec7d628883634814b99985e1dd6bd39d",
       "version_major": 2,
       "version_minor": 0
      },
      "text/plain": [
       "WebGuiWidget(layout=Layout(height='50vh', width='100%'), value={'gui_settings': {}, 'ngsolve_version': '6.2.23…"
      ]
     },
     "metadata": {},
     "output_type": "display_data"
    }
   ],
   "source": [
    "K = CF((0, 1, 0))\n",
    "P = CF((1,0,0))\n",
    "phasor = exp(1j * ((K[0] * x) + (K[1] * y) + (K[2]*z)))\n",
    "\n",
    "ex = P[0] * phasor\n",
    "ey = P[1] * phasor\n",
    "ez = P[2] * phasor\n",
    "\n",
    "e = CF((ex, ey, ez))\n",
    "\n",
    "Draw(e, mesh)\n",
    "\n",
    "def do_curl(e):\n",
    "    e1 = e[0]\n",
    "    e2 = e[1]\n",
    "    e3 = e[2]\n",
    "\n",
    "    c = CF((e3.Diff(y) - e2.Diff(z), e3.Diff(x) - e1.Diff(z), e2.Diff(x) - e1.Diff(y)))\n",
    "    return c\n",
    "\n",
    "curle = do_curl(e)\n"
   ]
  },
  {
   "cell_type": "markdown",
   "id": "21b6a0ba-0c05-4d63-b110-61f5f163bbfd",
   "metadata": {},
   "source": [
    "## Using Dirichlet BCs"
   ]
  },
  {
   "cell_type": "code",
   "execution_count": 4,
   "id": "99691e10-4e07-4fba-a592-fbf2b79d2f7a",
   "metadata": {},
   "outputs": [
    {
     "name": "stderr",
     "output_type": "stream",
     "text": [
      "used dof inconsistency\n",
      "(silence this warning by setting BilinearForm(...check_unused=False) )\n"
     ]
    },
    {
     "data": {
      "application/vnd.jupyter.widget-view+json": {
       "model_id": "fdfd4c815dd64f428bb8183657c6d9d0",
       "version_major": 2,
       "version_minor": 0
      },
      "text/plain": [
       "WebGuiWidget(layout=Layout(height='50vh', width='100%'), value={'gui_settings': {}, 'ngsolve_version': '6.2.23…"
      ]
     },
     "metadata": {},
     "output_type": "display_data"
    },
    {
     "data": {
      "text/plain": [
       "BaseWebGuiScene"
      ]
     },
     "execution_count": 4,
     "metadata": {},
     "output_type": "execute_result"
    }
   ],
   "source": [
    "fes = HCurl(mesh, order=4, complex=True, dirichlet=\"default\")\n",
    "u = fes.TrialFunction()\n",
    "v = fes.TestFunction()\n",
    "\n",
    "omega = sqrt(K[0]**2 + K[1]**2 + K[2]**2)\n",
    "\n",
    "a = BilinearForm(fes, symmetric=True)\n",
    "a += curl(u)*curl(v)*dx  - omega**2*u*v*dx\n",
    "a.Assemble()\n",
    "\n",
    "b = LinearForm(fes)\n",
    "b.Assemble()\n",
    "\n",
    "gfu = GridFunction(fes)\n",
    "gfu.Set((e), BND)\n",
    "\n",
    "r = b.vec - a.mat * gfu.vec\n",
    "gfu.vec.data += a.mat.Inverse(freedofs=fes.FreeDofs()) * r\n",
    "Draw(gfu[0], mesh)\n",
    "#Draw(gfu[1], mesh)\n",
    "#Draw(gfu[2], mesh)"
   ]
  },
  {
   "cell_type": "markdown",
   "id": "e9e8df43-f068-4741-8051-77635bd279a1",
   "metadata": {},
   "source": [
    "## Using Neumann BCs:"
   ]
  },
  {
   "cell_type": "code",
   "execution_count": 5,
   "id": "ba5d92d8-3c88-4f03-b47a-97e3f19f8674",
   "metadata": {},
   "outputs": [
    {
     "name": "stderr",
     "output_type": "stream",
     "text": [
      "used dof inconsistency\n",
      "(silence this warning by setting BilinearForm(...check_unused=False) )\n"
     ]
    },
    {
     "data": {
      "application/vnd.jupyter.widget-view+json": {
       "model_id": "80afb3bcd91c4fa4b1b2581fbdcac37c",
       "version_major": 2,
       "version_minor": 0
      },
      "text/plain": [
       "WebGuiWidget(layout=Layout(height='50vh', width='100%'), value={'gui_settings': {}, 'ngsolve_version': '6.2.23…"
      ]
     },
     "metadata": {},
     "output_type": "display_data"
    },
    {
     "data": {
      "text/plain": [
       "BaseWebGuiScene"
      ]
     },
     "execution_count": 5,
     "metadata": {},
     "output_type": "execute_result"
    }
   ],
   "source": [
    "fes = HCurl(mesh, order=4, complex=True)\n",
    "u = fes.TrialFunction()\n",
    "v = fes.TestFunction()\n",
    "\n",
    "omega = sqrt(K[0]**2 + K[1]**2 + K[2]**2)\n",
    "\n",
    "a = BilinearForm(fes, symmetric=True)\n",
    "a += curl(u)*curl(v)*dx  - omega**2*u*v*dx\n",
    "a.Assemble()\n",
    "\n",
    "n = specialcf.normal(3)\n",
    "n_curle = Cross(n, curle)\n",
    "nn_curle = Cross(n, n_curle)\n",
    "\n",
    "b = LinearForm(fes)\n",
    "b +=  nn_curle * v.Trace() * ds(definedon='default')\n",
    "b.Assemble()\n",
    "\n",
    "gfu = GridFunction(fes)\n",
    "\n",
    "gfu.vec.data += a.mat.Inverse(freedofs=fes.FreeDofs()) * b.vec\n",
    "Draw(gfu[0].real, mesh)\n",
    "# Draw(gfu[1], mesh)\n",
    "# Draw(gfu[2], mesh)"
   ]
  },
  {
   "cell_type": "code",
   "execution_count": null,
   "id": "7da0accc-b863-43b7-9f0a-57dcb9aac64c",
   "metadata": {},
   "outputs": [],
   "source": []
  }
 ],
 "metadata": {
  "kernelspec": {
   "display_name": "Python 3 (ipykernel)",
   "language": "python",
   "name": "python3"
  },
  "language_info": {
   "codemirror_mode": {
    "name": "ipython",
    "version": 3
   },
   "file_extension": ".py",
   "mimetype": "text/x-python",
   "name": "python",
   "nbconvert_exporter": "python",
   "pygments_lexer": "ipython3",
   "version": "3.10.12"
  }
 },
 "nbformat": 4,
 "nbformat_minor": 5
}
