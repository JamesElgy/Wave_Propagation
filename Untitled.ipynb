{
 "cells": [
  {
   "cell_type": "code",
   "execution_count": 1,
   "id": "2eda71aa",
   "metadata": {},
   "outputs": [
    {
     "data": {
      "application/vnd.jupyter.widget-view+json": {
       "model_id": "b591ebfd78c441f48ace9be77287f91d",
       "version_major": 2,
       "version_minor": 0
      },
      "text/plain": [
       "WebGuiWidget(layout=Layout(height='50vh', width='100%'), value={'ngsolve_version': 'Netgen x.x', 'mesh_dim': 3…"
      ]
     },
     "metadata": {},
     "output_type": "display_data"
    },
    {
     "data": {
      "application/vnd.jupyter.widget-view+json": {
       "model_id": "4c1104addd884b85b7800cd35eb1fcfb",
       "version_major": 2,
       "version_minor": 0
      },
      "text/plain": [
       "WebGuiWidget(layout=Layout(height='50vh', width='100%'), value={'gui_settings': {}, 'ngsolve_version': '6.2.23…"
      ]
     },
     "metadata": {},
     "output_type": "display_data"
    },
    {
     "data": {
      "text/plain": [
       "BaseWebGuiScene"
      ]
     },
     "execution_count": 1,
     "metadata": {},
     "output_type": "execute_result"
    }
   ],
   "source": [
    "from netgen.occ import *\n",
    "from ngsolve import Mesh\n",
    "from netgen.webgui import Draw as DrawGeo\n",
    "from ngsolve.webgui import Draw\n",
    "\n",
    "wp = WorkPlane().RectangleC(2, 2).Circle(0.5, 0, 0.2).Reverse()\n",
    "face = wp.Face()\n",
    "\n",
    "DrawGeo(face)\n",
    "\n",
    "geo = OCCGeometry(face)\n",
    "nmesh = geo.GenerateMesh(maxh=1)\n",
    "mesh = Mesh(nmesh)\n",
    "Draw(mesh)\n"
   ]
  },
  {
   "cell_type": "code",
   "execution_count": 2,
   "id": "6ee7e066",
   "metadata": {},
   "outputs": [
    {
     "data": {
      "text/plain": [
       "<ngsolve.comp.Mesh at 0x7f79aedcc0e0>"
      ]
     },
     "execution_count": 2,
     "metadata": {},
     "output_type": "execute_result"
    }
   ],
   "source": [
    "mesh.Curve(5)"
   ]
  },
  {
   "cell_type": "code",
   "execution_count": 3,
   "id": "4dcc84f1",
   "metadata": {},
   "outputs": [
    {
     "ename": "ImportError",
     "evalue": "/home/james/.local/lib/python3.10/site-packages/ngsolve/special_functions.so: undefined symbol: _ZNK5ngfem19CoefficientFunction14GetDescriptionB5cxx11Ev",
     "output_type": "error",
     "traceback": [
      "\u001b[0;31m---------------------------------------------------------------------------\u001b[0m",
      "\u001b[0;31mImportError\u001b[0m                               Traceback (most recent call last)",
      "Cell \u001b[0;32mIn [3], line 4\u001b[0m\n\u001b[1;32m      2\u001b[0m \u001b[38;5;28;01mfrom\u001b[39;00m \u001b[38;5;21;01mnetgen\u001b[39;00m\u001b[38;5;21;01m.\u001b[39;00m\u001b[38;5;21;01mgeom2d\u001b[39;00m \u001b[38;5;28;01mimport\u001b[39;00m unit_square\n\u001b[1;32m      3\u001b[0m \u001b[38;5;28;01mimport\u001b[39;00m \u001b[38;5;21;01mscipy\u001b[39;00m\u001b[38;5;21;01m.\u001b[39;00m\u001b[38;5;21;01mspecial\u001b[39;00m \u001b[38;5;28;01mas\u001b[39;00m \u001b[38;5;21;01msp\u001b[39;00m\n\u001b[0;32m----> 4\u001b[0m \u001b[38;5;28;01mimport\u001b[39;00m \u001b[38;5;21;01mngsolve\u001b[39;00m\u001b[38;5;21;01m.\u001b[39;00m\u001b[38;5;21;01mspecial_functions\u001b[39;00m\n\u001b[1;32m      6\u001b[0m ngsglobals\u001b[38;5;241m.\u001b[39mmsg_level \u001b[38;5;241m=\u001b[39m \u001b[38;5;241m0\u001b[39m\n\u001b[1;32m      8\u001b[0m mesh \u001b[38;5;241m=\u001b[39m Mesh(unit_square\u001b[38;5;241m.\u001b[39mGenerateMesh(maxh\u001b[38;5;241m=\u001b[39m\u001b[38;5;241m0.2\u001b[39m))\n",
      "\u001b[0;31mImportError\u001b[0m: /home/james/.local/lib/python3.10/site-packages/ngsolve/special_functions.so: undefined symbol: _ZNK5ngfem19CoefficientFunction14GetDescriptionB5cxx11Ev"
     ]
    }
   ],
   "source": [
    "from ngsolve import *\n",
    "from netgen.geom2d import unit_square\n",
    "import scipy.special as sp\n",
    "import ngsolve.special_functions\n",
    "\n",
    "ngsglobals.msg_level = 0\n",
    "\n",
    "mesh = Mesh(unit_square.GenerateMesh(maxh=0.2))\n",
    "\n",
    "n = 0\n",
    "while n>=0:\n",
    "    bessel = ngsolve.special_functions.jv(z=(x-0.5)+1j*(y-0.5), v=n)\n",
    "    Draw(bessel, mesh, 'bessel', sd=5)\n",
    "    n = float(input('Set order (<0 to abort): '))"
   ]
  },
  {
   "cell_type": "code",
   "execution_count": null,
   "id": "221d9bed",
   "metadata": {},
   "outputs": [],
   "source": []
  }
 ],
 "metadata": {
  "kernelspec": {
   "display_name": "Python 3 (ipykernel)",
   "language": "python",
   "name": "python3"
  },
  "language_info": {
   "codemirror_mode": {
    "name": "ipython",
    "version": 3
   },
   "file_extension": ".py",
   "mimetype": "text/x-python",
   "name": "python",
   "nbconvert_exporter": "python",
   "pygments_lexer": "ipython3",
   "version": "3.10.12"
  },
  "varInspector": {
   "cols": {
    "lenName": 16,
    "lenType": 16,
    "lenVar": 40
   },
   "kernels_config": {
    "python": {
     "delete_cmd_postfix": "",
     "delete_cmd_prefix": "del ",
     "library": "var_list.py",
     "varRefreshCmd": "print(var_dic_list())"
    },
    "r": {
     "delete_cmd_postfix": ") ",
     "delete_cmd_prefix": "rm(",
     "library": "var_list.r",
     "varRefreshCmd": "cat(var_dic_list()) "
    }
   },
   "types_to_exclude": [
    "module",
    "function",
    "builtin_function_or_method",
    "instance",
    "_Feature"
   ],
   "window_display": false
  }
 },
 "nbformat": 4,
 "nbformat_minor": 5
}
